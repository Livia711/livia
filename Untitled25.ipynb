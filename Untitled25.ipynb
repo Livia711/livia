{
  "nbformat": 4,
  "nbformat_minor": 0,
  "metadata": {
    "colab": {
      "provenance": [],
      "authorship_tag": "ABX9TyMNa6J28sxVJ9w/JcuV1AlE",
      "include_colab_link": true
    },
    "kernelspec": {
      "name": "python3",
      "display_name": "Python 3"
    },
    "language_info": {
      "name": "python"
    }
  },
  "cells": [
    {
      "cell_type": "markdown",
      "metadata": {
        "id": "view-in-github",
        "colab_type": "text"
      },
      "source": [
        "<a href=\"https://colab.research.google.com/github/Livia711/livia/blob/main/Untitled25.ipynb\" target=\"_parent\"><img src=\"https://colab.research.google.com/assets/colab-badge.svg\" alt=\"Open In Colab\"/></a>"
      ]
    },
    {
      "cell_type": "code",
      "source": [
        "import doctest\n",
        "def square(x):\n",
        "  \"\"\"\n",
        "  Retorna o quadrado de um número.\n",
        "\n",
        "  Exemplos:\n",
        "  >>> square(3)\n",
        "  9\n",
        "  >>> square(2)\n",
        "  4\n",
        "  >>> square(0)\n",
        "  0\n",
        "  \"\"\"\n",
        "  return x * x\n",
        "\n",
        "  doctest.testmod()\n",
        "\n",
        " # A função Square é acompanhada por uma string de documentação que inclui exemplos de uso.\n",
        " # Esses exemplos estão formatados de mandeira especial, usando Prompt >>>, que indica um bloco de codigos Python\n",
        "\n",
        " #No caso do exemplo doctestmod() executara a função Square(3)\n",
        " # verificara se o resultado é igual a 9, executará Square(-2) e verificará se o resultado é 4, e assim por diante\n",
        "\n",
        " # Se todos testes passarem, doctest não produzirá nenhuma saída.\n",
        " # Se houver uma discrepancia entre a saída real e a esperada, doctest imprimirá uma mensagem indicando onde ocorreu o problema.\n",
        "\n",
        " # Aprincipal vantagem do doctest é que ele permite que você mantenha exemplo na documentação, e ao mesmo tempo, use esses exemplos como testes automatizados.\n",
        " # Isso ajuda a garantir que a documentação esteja semp0re em sincronia com o codigo real\n",
        "\n",
        " # NÃO APARECE NADA NA EXECUÇÃO PQ NÃO TEM ERRO"
      ],
      "metadata": {
        "id": "bDZlcDiEtKeW"
      },
      "execution_count": 36,
      "outputs": []
    }
  ]
}