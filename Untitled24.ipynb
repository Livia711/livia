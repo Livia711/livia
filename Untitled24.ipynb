{
  "nbformat": 4,
  "nbformat_minor": 0,
  "metadata": {
    "colab": {
      "provenance": [],
      "authorship_tag": "ABX9TyNTqoE7XeEn1KxuBkAgAsTj",
      "include_colab_link": true
    },
    "kernelspec": {
      "name": "python3",
      "display_name": "Python 3"
    },
    "language_info": {
      "name": "python"
    }
  },
  "cells": [
    {
      "cell_type": "markdown",
      "metadata": {
        "id": "view-in-github",
        "colab_type": "text"
      },
      "source": [
        "<a href=\"https://colab.research.google.com/github/Livia711/livia/blob/main/Untitled24.ipynb\" target=\"_parent\"><img src=\"https://colab.research.google.com/assets/colab-badge.svg\" alt=\"Open In Colab\"/></a>"
      ]
    },
    {
      "cell_type": "code",
      "source": [
        "from IPython.display import HTML #Fixed typo in module name\n",
        "html_code  = \"\"\"\n",
        "<!DOCTYPE html>\n",
        "<html lang=\"en\">\n",
        "<head>\n",
        "    <!-- Definindo a codificação e a viewport para dispositivos móveis -->\n",
        "    <meta charset=\"UTF-8\">\n",
        "    <meta name=\"viewport\" content=\"width=device-width, initial-scale=1.0\">\n",
        "    <title>Menu Perfil</title>\n",
        "</head>\n",
        "<body style=\"front-family: Arial, sans-serif; background-color: #f8f8f8; margin: o; padding: 0;\">\n",
        "\n",
        "<!Cabeçalho da Página -->\n",
        "<header style=\"text-align: center; background-color: #3498db; color: #fff; padding: 20px;\">\n",
        "    <!-- Titulo principal -->\n",
        "    <h1 style=\"margin: 0;\">Lívia Eduarda Sodré da Silva</h1>\n",
        "    <!-- Descrição -->\n",
        "    <p style=\"margin: 5px 0;\"> Desenvolvedor Web</p>\n",
        "</header>\n",
        "\n",
        "<! -- Seção de informações Pessoais -->\n",
        "<section style=\"margin: 20px; text-align: center;\">\n",
        "    <!-- Imagem com estilos -->\n",
        "    <img src=\"content/sua_foto.jpg\" alt=\"Sua Foto\" style=\"border-radius; 50%; margin-bottom: 20px;>\n",
        "    <!-- Informações Pessoais -->\n",
        "    <div id=\"informações-pessoais\" style \"max-width: 400px; margin: 0 auto;\">\n",
        "        <p>Cidade: Paratinga </p>\n",
        "        <p>País: Brasil </p>\n",
        "        <p>Interesses: Desenvolvimento Web</p>\n",
        "    </div>\n",
        "</section>\n",
        "\n",
        "<!-- Seção de Habilidades -->\n",
        "<Section style=\"margin: 20px; text-align: center;\">\n",
        "    <!-- Titulo da seção -->\n",
        "    <h2>Seleção de Habilidades</h2>\n",
        "    <!-- Lista de Habilidades -->\n",
        "    <ul style=\"list-style: none; padding: 0;\">\n",
        "       <li>Linguagens: Python, HTML, CSS, JavaScript</li>\n",
        "       <LI> Ferramentas: Gti, VS Code,<li>\n",
        "   </ul>\n",
        "   </section>\n",
        "   <!-- Seção de Projetos Recente -->\n",
        "   <section style=\"margin: 20px; text-align: center;\">\n",
        "       <!-- Titulo do Projeto Recente -->\n",
        "       <h2>Projetos Recentes</h2>\n",
        "       <!--Descrição do Projeto -->\n",
        "       <p>Trabalhando em um site pessoal para mostrar meu portifolio.</p>\n",
        "   <section>\n",
        "\n",
        "   <!-- Rodapé da Página -->\n",
        "     <footer style=\"text-align: center; margin-top: 20px;\">\n",
        "     <!-- Link para o Linkedin -->\n",
        "     <a href=\"https://www.linkedin.com/in/livia-eduarda-37b03a169?lipi=urn%3Ali%3Apage%3Ad_flagship3_profile_view_base_contact_details%3B3Re06znnRYS3SCZ43Pvt7Q%3D%3D/\" target=\"_blank\" style=\"margin\": 0 10px; color: #3498db; text-decoration; nome;\">LinkedIn</a>\n",
        "</footer>\n",
        "   </a>\n",
        "</body>\n",
        "</html>\n",
        "\"\"\"\n",
        "# Exibindo a pagina HTML\n",
        "HTML(html_code)"
      ],
      "metadata": {
        "colab": {
          "resources": {
            "http://localhost:8080/content/sua_foto.jpg": {
              "data": "",
              "ok": false,
              "headers": [
                [
                  "content-length",
                  "0"
                ]
              ],
              "status": 404,
              "status_text": ""
            }
          },
          "base_uri": "https://localhost:8080/",
          "height": 460
        },
        "id": "wHhVGo4vRYbt",
        "outputId": "daedc132-4c29-4629-85ef-f1dbf2572be9"
      },
      "execution_count": 13,
      "outputs": [
        {
          "output_type": "execute_result",
          "data": {
            "text/plain": [
              "<IPython.core.display.HTML object>"
            ],
            "text/html": [
              "\n",
              "<!DOCTYPE html>\n",
              "<html lang=\"en\">\n",
              "<head>\n",
              "    <!-- Definindo a codificação e a viewport para dispositivos móveis -->\n",
              "    <meta charset=\"UTF-8\">\n",
              "    <meta name=\"viewport\" content=\"width=device-width, initial-scale=1.0\">\n",
              "    <title>Menu Perfil</title>\n",
              "</head>\n",
              "<body style=\"front-family: Arial, sans-serif; background-color: #f8f8f8; margin: o; padding: 0;\">\n",
              "\n",
              "<!Cabeçalho da Página -->\n",
              "<header style=\"text-align: center; background-color: #3498db; color: #fff; padding: 20px;\">\n",
              "    <!-- Titulo principal -->\n",
              "    <h1 style=\"margin: 0;\">Lívia Eduarda Sodré da Silva</h1>\n",
              "    <!-- Descrição -->\n",
              "    <p style=\"margin: 5px 0;\"> Desenvolvedor Web</p>\n",
              "</header>\n",
              "\n",
              "<! -- Seção de informações Pessoais -->\n",
              "<section style=\"margin: 20px; text-align: center;\">\n",
              "    <!-- Imagem com estilos -->\n",
              "    <img src=\"content/sua_foto.jpg\" alt=\"Sua Foto\" style=\"border-radius; 50%; margin-bottom: 20px;>\n",
              "    <!-- Informações Pessoais -->\n",
              "    <div id=\"informações-pessoais\" style \"max-width: 400px; margin: 0 auto;\">\n",
              "        <p>Cidade: Paratinga </p>\n",
              "        <p>País: Brasil </p>\n",
              "        <p>Interesses: Desenvolvimento Web</p>\n",
              "    </div>\n",
              "</section>\n",
              "\n",
              "<!-- Seção de Habilidades -->\n",
              "<Section style=\"margin: 20px; text-align: center;\">\n",
              "    <!-- Titulo da seção -->\n",
              "    <h2>Seleção de Habilidades</h2>\n",
              "    <!-- Lista de Habilidades -->\n",
              "    <ul style=\"list-style: none; padding: 0;\">\n",
              "       <li>Linguagens: Python, HTML, CSS, JavaScript</li>\n",
              "       <LI> Ferramentas: Gti, VS Code,<li>\n",
              "   </ul>\n",
              "   </section>\n",
              "   <!-- Seção de Projetos Recente -->\n",
              "   <section style=\"margin: 20px; text-align: center;\">\n",
              "       <!-- Titulo do Projeto Recente -->\n",
              "       <h2>Projetos Recentes</h2>\n",
              "       <!--Descrição do Projeto -->\n",
              "       <p>Trabalhando em um site pessoal para mostrar meu portifolio.</p>\n",
              "   <section>\n",
              "\n",
              "   <!-- Rodapé da Página -->\n",
              "     <footer style=\"text-align: center; margin-top: 20px;\">\n",
              "     <!-- Link para o Linkedin -->\n",
              "     <a href=\"https://www.linkedin.com/in/livia-eduarda-37b03a169?lipi=urn%3Ali%3Apage%3Ad_flagship3_profile_view_base_contact_details%3B3Re06znnRYS3SCZ43Pvt7Q%3D%3D/\" target=\"_blank\" style=\"margin\": 0 10px; color: #3498db; text-decoration; nome;\">LinkedIn</a>\n",
              "</footer>\n",
              "   </a>\n",
              "</body>\n",
              "</html>\n"
            ]
          },
          "metadata": {},
          "execution_count": 13
        }
      ]
    }
  ]
}