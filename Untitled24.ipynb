from IPython.display import HTML #Fixed typo in module name
html_code  = """
<!DOCTYPE html>
<html lang="en">
<head>
    <!-- Definindo a codificação e a viewport para dispositivos móveis -->
    <meta charset="UTF-8">
    <meta name="viewport" content="width=device-width, initial-scale=1.0">
    <title>Menu Perfil</title>
</head>
<body style="front-family: Arial, sans-serif; background-color: #f8f8f8; margin: o; padding: 0;">

<!Cabeçalho da Página -->
<header style="text-align: center; background-color: #3498db; color: #fff; padding: 20px;">
    <!-- Titulo principal -->
    <h1 style="margin: 0;">Lívia Eduarda Sodré da Silva</h1>
    <!-- Descrição -->
    <p style="margin: 5px 0;"> Desenvolvedor Web</p>
</header>

<! -- Seção de informações Pessoais -->
<section style="margin: 20px; text-align: center;">
    <!-- Imagem com estilos -->
    <img src="content/sua_foto.jpg" alt="Sua Foto" style="border-radius; 50%; margin-bottom: 20px;>
    <!-- Informações Pessoais -->
    <div id="informações-pessoais" style "max-width: 400px; margin: 0 auto;">
        <p>Cidade: Paratinga </p>
        <p>País: Brasil </p>
        <p>Interesses: Desenvolvimento Web</p>
    </div>
</section>

<!-- Seção de Habilidades -->
<Section style="margin: 20px; text-align: center;">
    <!-- Titulo da seção -->
    <h2>Seleção de Habilidades</h2>
    <!-- Lista de Habilidades -->
    <ul style="list-style: none; padding: 0;">
       <li>Linguagens: Python, HTML, CSS, JavaScript</li>
       <LI> Ferramentas: Gti, VS Code,<li>
   </ul>
   </section>
   <!-- Seção de Projetos Recente -->
   <section style="margin: 20px; text-align: center;">
       <!-- Titulo do Projeto Recente -->
       <h2>Projetos Recentes</h2>
       <!--Descrição do Projeto -->
       <p>Trabalhando em um site pessoal para mostrar meu portifolio.</p>
   <section>

   <!-- Rodapé da Página -->
     <footer style="text-align: center; margin-top: 20px;">
     <!-- Link para o Linkedin -->
     <a href="https://www.linkedin.com/in/livia-eduarda-37b03a169?lipi=urn%3Ali%3Apage%3Ad_flagship3_profile_view_base_contact_details%3B3Re06znnRYS3SCZ43Pvt7Q%3D%3D/" target="_blank" style="margin": 0 10px; color: #3498db; text-decoration; nome;">LinkedIn</a>
</footer>
   </a>
</body>
</html>
"""
# Exibindo a pagina HTML
HTML(html_code)
