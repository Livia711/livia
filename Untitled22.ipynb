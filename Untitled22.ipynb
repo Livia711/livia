{
  "nbformat": 4,
  "nbformat_minor": 0,
  "metadata": {
    "colab": {
      "provenance": [],
      "authorship_tag": "ABX9TyNHOLWG3tEwISbBa5Q6dAKf",
      "include_colab_link": true
    },
    "kernelspec": {
      "name": "python3",
      "display_name": "Python 3"
    },
    "language_info": {
      "name": "python"
    }
  },
  "cells": [
    {
      "cell_type": "markdown",
      "metadata": {
        "id": "view-in-github",
        "colab_type": "text"
      },
      "source": [
        "<a href=\"https://colab.research.google.com/github/Livia711/livia/blob/main/Untitled22.ipynb\" target=\"_parent\"><img src=\"https://colab.research.google.com/assets/colab-badge.svg\" alt=\"Open In Colab\"/></a>"
      ]
    },
    {
      "cell_type": "code",
      "source": [
        "# Criando uma página HTML Python\n",
        "html_code = \"\"\"\n",
        "<!DOCTYPE html>\n",
        "<html>\n",
        "<head>\n",
        "    <title>Exemplo de Front-end com Python</title>\n",
        "    </head>\n",
        "    <body>\n",
        "    <h1>Olá, mundo!,</h1>\n",
        "    <p>Esta é uma página web criada usando Python no Google.Colab.</p>\n",
        "    </body>\n",
        "</html>\n",
        "\"\"\"\n",
        "\n"
      ],
      "metadata": {
        "id": "1B0usq9YtSRA"
      },
      "execution_count": 3,
      "outputs": []
    },
    {
      "cell_type": "code",
      "source": [
        "from IPython.display import HTML\n",
        "HTML(html_code)"
      ],
      "metadata": {
        "colab": {
          "base_uri": "https://localhost:8080/",
          "height": 100
        },
        "id": "kxUexHEHuHl2",
        "outputId": "3095dff1-5493-484a-d49f-04dbea78571d"
      },
      "execution_count": 4,
      "outputs": [
        {
          "output_type": "execute_result",
          "data": {
            "text/plain": [
              "<IPython.core.display.HTML object>"
            ],
            "text/html": [
              "\n",
              "<!DOCTYPE html>\n",
              "<html>\n",
              "<head>\n",
              "    <title>Exemplo de Front-end com Python</title>\n",
              "    </head>\n",
              "    <body>\n",
              "    <h1>Olá, mundo!,</h1>\n",
              "    <p>Esta é uma página web criada usando Python no Google.Colab.</p>\n",
              "    </body>\n",
              "</html>\n"
            ]
          },
          "metadata": {},
          "execution_count": 4
        }
      ]
    }
  ]
}