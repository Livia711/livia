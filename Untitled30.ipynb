{
  "nbformat": 4,
  "nbformat_minor": 0,
  "metadata": {
    "colab": {
      "provenance": [],
      "authorship_tag": "ABX9TyOG4V8UA3/i1FifnBfIT97E",
      "include_colab_link": true
    },
    "kernelspec": {
      "name": "python3",
      "display_name": "Python 3"
    },
    "language_info": {
      "name": "python"
    }
  },
  "cells": [
    {
      "cell_type": "markdown",
      "metadata": {
        "id": "view-in-github",
        "colab_type": "text"
      },
      "source": [
        "<a href=\"https://colab.research.google.com/github/Livia711/livia/blob/main/Untitled30.ipynb\" target=\"_parent\"><img src=\"https://colab.research.google.com/assets/colab-badge.svg\" alt=\"Open In Colab\"/></a>"
      ]
    },
    {
      "cell_type": "code",
      "execution_count": null,
      "metadata": {
        "colab": {
          "base_uri": "https://localhost:8080/"
        },
        "id": "bontLoxgrfpo",
        "outputId": "65d717de-4f79-4e19-de00-d36c1514a5fb"
      },
      "outputs": [
        {
          "output_type": "stream",
          "name": "stdout",
          "text": [
            "11\n"
          ]
        }
      ],
      "source": [
        "print (7+4)\n"
      ]
    },
    {
      "cell_type": "code",
      "source": [
        "print (\"Lívia\" \"e\" \"Daberson\")"
      ],
      "metadata": {
        "colab": {
          "base_uri": "https://localhost:8080/"
        },
        "id": "UxB1cH5TrwDX",
        "outputId": "303ba7dc-cd65-4e7e-ee39-1f08dd79508d"
      },
      "execution_count": null,
      "outputs": [
        {
          "output_type": "stream",
          "name": "stdout",
          "text": [
            "LíviaeDaberson\n"
          ]
        }
      ]
    },
    {
      "cell_type": "code",
      "source": [
        "nome = \"Lívia\"\n",
        "idade = 25\n",
        "peso = 72.00\n",
        "print (nome, idade, peso)\n"
      ],
      "metadata": {
        "colab": {
          "base_uri": "https://localhost:8080/"
        },
        "id": "BnNpY3ZctwQ2",
        "outputId": "f8b1b697-0778-4b55-ddef-f6706775ede0"
      },
      "execution_count": null,
      "outputs": [
        {
          "output_type": "stream",
          "name": "stdout",
          "text": [
            "Lívia 25 72.0\n"
          ]
        }
      ]
    },
    {
      "cell_type": "code",
      "source": [
        "nome = input (\"Qual o seu nome?\")\n",
        "idade = input (\"Qual a sua idade?\")\n",
        "peso = input (\"Qual o seu peso?\")\n",
        "\n"
      ],
      "metadata": {
        "colab": {
          "base_uri": "https://localhost:8080/"
        },
        "id": "3Tuc_WK_uph8",
        "outputId": "2254693f-25bb-42ba-9112-bccfda61ce59"
      },
      "execution_count": null,
      "outputs": [
        {
          "name": "stdout",
          "output_type": "stream",
          "text": [
            "Qual o seu nome?Lívia\n",
            "Qual a sua idade?25\n",
            "Qual o seu peso?75.00\n"
          ]
        }
      ]
    },
    {
      "cell_type": "code",
      "source": [
        "nome = input (\"Qual o seu nome?\")\n",
        "print (\"Olá\", nome,'!', 'Pazer em te conhecer!')\n"
      ],
      "metadata": {
        "colab": {
          "base_uri": "https://localhost:8080/"
        },
        "id": "BqxaaDCZyNbT",
        "outputId": "bd6efaf2-1e1b-40d6-8105-8e8dff2d3a6f"
      },
      "execution_count": null,
      "outputs": [
        {
          "output_type": "stream",
          "name": "stdout",
          "text": [
            "Qual o seu nome?Lívia\n",
            "Olá Lívia ! Pazer em te conhecer!\n"
          ]
        }
      ]
    },
    {
      "cell_type": "code",
      "source": [
        "dia = input ('dia')\n",
        "mes = input('mes')\n",
        "ano = input('ano')\n",
        "print('Você nasceu no dia', dia, 'de', mes, 'de', ano, '.', 'correto?')"
      ],
      "metadata": {
        "colab": {
          "base_uri": "https://localhost:8080/"
        },
        "id": "zHft7Nvf0RzB",
        "outputId": "ed7a8618-43e6-4120-9d13-a69b9800e1e2"
      },
      "execution_count": null,
      "outputs": [
        {
          "output_type": "stream",
          "name": "stdout",
          "text": [
            "dia20\n",
            "mesAbril\n",
            "ano1999\n",
            "Você nasceu no dia 20 de Abril de 1999 . correto?\n"
          ]
        }
      ]
    },
    {
      "cell_type": "code",
      "source": [
        "numero = input (' Primeiro Número')\n",
        "numero2 = input ('Segundo Número')\n",
        "soma = int (numero) + int (numero2)\n",
        "print ('A soma é', soma)"
      ],
      "metadata": {
        "colab": {
          "base_uri": "https://localhost:8080/"
        },
        "id": "2NFc67cr2ED1",
        "outputId": "eef87101-0ab2-49a7-fe63-f2799797fd74"
      },
      "execution_count": null,
      "outputs": [
        {
          "output_type": "stream",
          "name": "stdout",
          "text": [
            " Primeiro Número  8\n",
            "Segundo Número  9\n",
            "A soma é 17\n"
          ]
        }
      ]
    },
    {
      "cell_type": "code",
      "source": [
        "n1= int(input ('Digite um número'))\n",
        "n2= int( input ('Digite outro número'))\n",
        "s= n1+n2\n",
        "print (' A soma vale', s )"
      ],
      "metadata": {
        "colab": {
          "base_uri": "https://localhost:8080/"
        },
        "id": "kG4n0pwu9Ivb",
        "outputId": "11e8d1b6-3cc6-4d41-be81-f944e143b456"
      },
      "execution_count": null,
      "outputs": [
        {
          "output_type": "stream",
          "name": "stdout",
          "text": [
            "Digite um número 3\n",
            "Digite outro número 2\n",
            " A soma vale 5\n"
          ]
        }
      ]
    },
    {
      "cell_type": "code",
      "source": [
        "print('A soma vale {}'.format(s) )"
      ],
      "metadata": {
        "colab": {
          "base_uri": "https://localhost:8080/"
        },
        "id": "3DFMsaGBBfr-",
        "outputId": "f02e4433-7d0e-4d34-94d8-f8e33138995d"
      },
      "execution_count": null,
      "outputs": [
        {
          "output_type": "stream",
          "name": "stdout",
          "text": [
            "A soma vale 5\n"
          ]
        }
      ]
    },
    {
      "cell_type": "code",
      "source": [
        "n1 = int(input( 'Digite um valor:'))\n",
        "n2 = int(input('Digite outro:'))\n",
        "s = n1 + n2\n",
        "print (' A soma entre', n1, 'e', n2, 'vale', s )\n"
      ],
      "metadata": {
        "colab": {
          "base_uri": "https://localhost:8080/"
        },
        "id": "dKTkVAUDLRua",
        "outputId": "6f8d4556-7c27-44aa-f16f-a5e5f487bb53"
      },
      "execution_count": null,
      "outputs": [
        {
          "output_type": "stream",
          "name": "stdout",
          "text": [
            "Digite um valor: 8\n",
            "Digite outro: 4\n",
            " A soma entre 8 e 4 vale 12\n"
          ]
        }
      ]
    },
    {
      "cell_type": "code",
      "source": [
        "n1 = int(input( 'Digite um valor:'))\n",
        "n2 = int(input('Digite outro:'))\n",
        "s = n1 + n2\n",
        "print (' A soma entre {} e {} vale {}'.format(n1,n2,s) )\n"
      ],
      "metadata": {
        "colab": {
          "base_uri": "https://localhost:8080/"
        },
        "id": "Vrt0l1kUL2pB",
        "outputId": "c15753cb-b8e6-4ec0-921e-e97dce3cde6d"
      },
      "execution_count": null,
      "outputs": [
        {
          "output_type": "stream",
          "name": "stdout",
          "text": [
            "Digite um valor:  8\n",
            "Digite outro:  4\n",
            " A soma entre 8 e 4 vale 12\n"
          ]
        }
      ]
    },
    {
      "cell_type": "code",
      "source": [
        "n = float(input('Digite um valor:'))\n",
        "print(n)"
      ],
      "metadata": {
        "colab": {
          "base_uri": "https://localhost:8080/"
        },
        "id": "sLZlrGy1Nqjx",
        "outputId": "9ade6515-08cf-4f21-f79b-3e415e9b99db"
      },
      "execution_count": null,
      "outputs": [
        {
          "output_type": "stream",
          "name": "stdout",
          "text": [
            "Digite um valor: 5\n",
            "5.0\n"
          ]
        }
      ]
    },
    {
      "cell_type": "code",
      "source": [
        "# isso tem somente letras Maiusculas? (True) verdadeiro, (False) falso?\n",
        "n = input('Digite algo: ')\n",
        "print(n.isupper())\n",
        "\n",
        "# Nesse caso são somente letras maiusculas ( verdadeiro)"
      ],
      "metadata": {
        "colab": {
          "base_uri": "https://localhost:8080/"
        },
        "id": "koQYmqQSPLpF",
        "outputId": "ec5cc89e-fc89-498a-c644-1672ea5d6953"
      },
      "execution_count": null,
      "outputs": [
        {
          "output_type": "stream",
          "name": "stdout",
          "text": [
            "Digite algo: OII\n",
            "True\n"
          ]
        }
      ]
    },
    {
      "cell_type": "code",
      "source": [
        "n = input('Digite algo: ')\n",
        "print(n.isupper())\n",
        "#Ja nesse caso é fALSO pois tem lettras minusculas também"
      ],
      "metadata": {
        "colab": {
          "base_uri": "https://localhost:8080/"
        },
        "id": "Motkd9NNRXbb",
        "outputId": "9f0f6533-ef6e-4722-b2bd-fc5cb34c8fb4"
      },
      "execution_count": null,
      "outputs": [
        {
          "output_type": "stream",
          "name": "stdout",
          "text": [
            "Digite algo: Oii\n",
            "False\n"
          ]
        }
      ]
    },
    {
      "cell_type": "code",
      "source": [
        "a = input ('Digite algo: ')\n",
        "print ('O tipo primitivo desse valor é', type(a))\n",
        "print ('Só tem espaços?', a.isspace())\n",
        "print ('É um número?' , a.isnumeric())\n",
        "print ('É alfabetico?', a.isalpha())\n",
        "print ('É alfanumerico?', a.isalnum())\n",
        "print ('Está em maiuscula?', a.isupper())\n",
        "print ('Está em minuscula?', a.islower())\n",
        "print ('Está capitalizado?', a.istitle())"
      ],
      "metadata": {
        "id": "sm0a5lb-ebCa",
        "outputId": "c1f4794b-7ac4-4cd0-d3fb-5324d8587b7f",
        "colab": {
          "base_uri": "https://localhost:8080/"
        }
      },
      "execution_count": null,
      "outputs": [
        {
          "output_type": "stream",
          "name": "stdout",
          "text": [
            "Digite algo:  Lívia\n",
            "O tipo primitivo desse valor é <class 'str'>\n",
            "Só tem espaços? False\n",
            "É um número? False\n",
            "É alfabetico? False\n",
            "É alfanumerico? False\n",
            "Está em maiuscula? False\n",
            "Está em minuscula? False\n",
            "Está capitalizado? True\n"
          ]
        }
      ]
    },
    {
      "cell_type": "code",
      "source": [
        "n1 = int(input('Um valor'))\n",
        "n2 = int(input('Outro valor'))\n",
        "s = n1 + n2\n",
        "m = n1 *n2\n",
        "d = n1 / n2\n",
        "di = n1 // n2\n",
        "e = n1 ** n2\n",
        "print (' A soma é {}, \\n o produto é {} \\n e a divisão é {}'. format(s,m,d), end=' ')\n",
        "print ('Divisão inteira {} e potência {}'.format(di,e), end=' ')"
      ],
      "metadata": {
        "colab": {
          "base_uri": "https://localhost:8080/"
        },
        "id": "v1lH-M3PuNEr",
        "outputId": "07d78ada-f675-417c-e86c-310cb6249e9a"
      },
      "execution_count": 9,
      "outputs": [
        {
          "output_type": "stream",
          "name": "stdout",
          "text": [
            "Um valor   4\n",
            "Outro valor  2\n",
            " A soma é 6, \n",
            " o produto é 8 \n",
            " e a divisão é 2.0 Divisão inteira 2 e potência 16 "
          ]
        }
      ]
    },
    {
      "cell_type": "code",
      "source": [
        "n = int(input('Digite um número inteiro: '))\n",
        "a = n - 1\n",
        "s = n + 1\n",
        "print ('Analisando o valor {}, seu antecessor é {} e o sucessor {}'.format(n,a,s))\n"
      ],
      "metadata": {
        "colab": {
          "base_uri": "https://localhost:8080/"
        },
        "id": "gSmPdKVxxzHd",
        "outputId": "b9dbf23f-10b7-4c4a-905c-b08b1f469e82"
      },
      "execution_count": 10,
      "outputs": [
        {
          "output_type": "stream",
          "name": "stdout",
          "text": [
            "Digite um número inteiro:   4\n",
            "Analisando o valor 4, seu antecessor é 3 e o sucessor 5\n"
          ]
        }
      ]
    }
  ]
}