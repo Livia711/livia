{
  "nbformat": 4,
  "nbformat_minor": 0,
  "metadata": {
    "colab": {
      "provenance": [],
      "authorship_tag": "ABX9TyPOJiMe0ANcqaRQFBwU6WwB",
      "include_colab_link": true
    },
    "kernelspec": {
      "name": "python3",
      "display_name": "Python 3"
    },
    "language_info": {
      "name": "python"
    }
  },
  "cells": [
    {
      "cell_type": "markdown",
      "metadata": {
        "id": "view-in-github",
        "colab_type": "text"
      },
      "source": [
        "<a href=\"https://colab.research.google.com/github/Livia711/livia/blob/main/Untitled3.ipynb\" target=\"_parent\"><img src=\"https://colab.research.google.com/assets/colab-badge.svg\" alt=\"Open In Colab\"/></a>"
      ]
    },
    {
      "cell_type": "code",
      "execution_count": 1,
      "metadata": {
        "colab": {
          "base_uri": "https://localhost:8080/"
        },
        "id": "S_GjSd28N1NN",
        "outputId": "1cac2f06-687a-4ba5-e79a-9135ec5d0479"
      },
      "outputs": [
        {
          "output_type": "stream",
          "name": "stdout",
          "text": [
            "Convidados que ainda não confirmaram:\n",
            "Alice\n",
            "Charlie\n",
            "David\n",
            "Eve\n",
            "\n",
            "Enviando lembretes aos não confirmados:\n"
          ]
        }
      ],
      "source": [
        "# Tupla de convidados\n",
        "convidados = ( \"Alice\", \"Bob\", \"Charlie\", \"David\", \"Eve\" )\n",
        "\n",
        "#Lista de confirmados\n",
        "confirmados = [\"Bob\", \"Dvid\"]\n",
        "\n",
        "# Identificar quem ainda não confirmou\n",
        "nao_confirmados = [convidado for convidado in convidados if convidado not in confirmados]\n",
        "\n",
        "# Exibir os convidados que ainda não confirmaram\n",
        "print(\"Convidados que ainda não confirmaram:\")\n",
        "for convidado in nao_confirmados:\n",
        "    print(convidado)\n",
        "\n",
        "# Enviar lembretes aos não confirmados\n",
        "print(\"\\nEnviando lembretes aos não confirmados:\")\n"
      ]
    }
  ]
}