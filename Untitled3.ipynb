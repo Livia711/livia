{
  "nbformat": 4,
  "nbformat_minor": 0,
  "metadata": {
    "colab": {
      "provenance": [],
      "authorship_tag": "ABX9TyNo5ebBCxe3lWFJVXdQrErw",
      "include_colab_link": true
    },
    "kernelspec": {
      "name": "python3",
      "display_name": "Python 3"
    },
    "language_info": {
      "name": "python"
    }
  },
  "cells": [
    {
      "cell_type": "markdown",
      "metadata": {
        "id": "view-in-github",
        "colab_type": "text"
      },
      "source": [
        "<a href=\"https://colab.research.google.com/github/Livia711/livia/blob/main/Untitled3.ipynb\" target=\"_parent\"><img src=\"https://colab.research.google.com/assets/colab-badge.svg\" alt=\"Open In Colab\"/></a>"
      ]
    },
    {
      "cell_type": "code",
      "source": [
        "texto = \"Explorando a diversidade de linguagens de programação com Python.\"\n",
        "\n",
        "print(f\"tamanho do texto = {len(texto)}\")\n",
        "print(f\"python in texto = {'Python' in texto}\")\n",
        "print(f\"Quantidade de e no texto = {texto.count('e')}\")\n",
        "print(f\"As 5 primeiras letras são: {texto [:5]}\")"
      ],
      "metadata": {
        "colab": {
          "base_uri": "https://localhost:8080/"
        },
        "id": "NIdEXRBqFf7C",
        "outputId": "b858fe5c-2677-48ff-ad85-034c466d7b8f"
      },
      "execution_count": 3,
      "outputs": [
        {
          "output_type": "stream",
          "name": "stdout",
          "text": [
            "tamanho do texto = 65\n",
            "python in texto = True\n",
            "Quantidade de e no texto = 5\n",
            "As 5 primeiras letras são: Explo\n"
          ]
        }
      ]
    },
    {
      "cell_type": "markdown",
      "source": [
        "# Nova seção"
      ],
      "metadata": {
        "id": "bPJ3P-GIKmyD"
      }
    },
    {
      "cell_type": "code",
      "source": [
        "texto[13]"
      ],
      "metadata": {
        "colab": {
          "base_uri": "https://localhost:8080/",
          "height": 36
        },
        "id": "vthBQZRqHjYp",
        "outputId": "2a1a0835-ecf1-4728-d8f8-879746f6f789"
      },
      "execution_count": 5,
      "outputs": [
        {
          "output_type": "execute_result",
          "data": {
            "text/plain": [
              "'d'"
            ],
            "application/vnd.google.colaboratory.intrinsic+json": {
              "type": "string"
            }
          },
          "metadata": {},
          "execution_count": 5
        }
      ]
    },
    {
      "cell_type": "code",
      "source": [
        "Cores = ['vermelho', 'azul', 'rosa', 'amarelo', 'verde']\n",
        "for cor in Cores:\n",
        "  print(f\"posição = {Cores.index(cor)} cor = {cor}\")"
      ],
      "metadata": {
        "colab": {
          "base_uri": "https://localhost:8080/"
        },
        "id": "czloRM-5JWEn",
        "outputId": "03e4026f-82fb-4a65-a82d-dbdc7f10b12b"
      },
      "execution_count": 6,
      "outputs": [
        {
          "output_type": "stream",
          "name": "stdout",
          "text": [
            "posição = 0 cor = vermelho\n",
            "posição = 1 cor = azul\n",
            "posição = 2 cor = rosa\n",
            "posição = 3 cor = amarelo\n",
            "posição = 4 cor = verde\n"
          ]
        }
      ]
    },
    {
      "cell_type": "code",
      "source": [
        "linguagens = [ \"Python\", \"Java\", \"JavaScript\", \"C\", \"C#\", \"C++\", \"Swift\", \"Go\", \"Kotlin\"]\n",
        "print(\"Antes da listcomp = \", linguagens)\n",
        "linguagens = [item.lower() for item in linguagens]\n",
        "print(\"Depois da listcomp = \", linguagens)"
      ],
      "metadata": {
        "colab": {
          "base_uri": "https://localhost:8080/"
        },
        "id": "Zz0q5nO3KENv",
        "outputId": "be08c552-fd33-4d5b-d0ab-04be4645493e"
      },
      "execution_count": 7,
      "outputs": [
        {
          "output_type": "stream",
          "name": "stdout",
          "text": [
            "Antes da listcomp =  ['Python', 'Java', 'JavaScript', 'C', 'C#', 'C++', 'Swift', 'Go', 'Kotlin']\n",
            "Depois da listcomp =  ['python', 'java', 'javascript', 'c', 'c#', 'c++', 'swift', 'go', 'kotlin']\n"
          ]
        }
      ]
    },
    {
      "cell_type": "code",
      "source": [
        "#função filter!\n",
        "#filtrar os elementos de uma sequencia com base em uma função de teste ( retorna true or false)\n",
        "numeros = [1, 2, 3, 4, 5, 6, 7, 8, 9, 10]\n",
        "numeros_pares = list(filter(lambda x: x % 2 == 0, numeros))\n",
        "print(numeros_pares)"
      ],
      "metadata": {
        "colab": {
          "base_uri": "https://localhost:8080/"
        },
        "id": "-U-1RhT2LGGn",
        "outputId": "0c501d13-08e5-41d4-e657-35a417d77e3c"
      },
      "execution_count": 8,
      "outputs": [
        {
          "output_type": "stream",
          "name": "stdout",
          "text": [
            "[2, 4, 6, 8, 10]\n"
          ]
        }
      ]
    },
    {
      "cell_type": "code",
      "source": [
        "#função map!\n",
        "#aplica a uma função em toda sequencia\n",
        "#map(função, sequencia)\n",
        "preços_em_dolares = [100, 50, 75, 120]\n",
        "taxa_de_cambio = 5.25\n",
        "preços_em_reais = list(map(lambda x: x * taxa_de_cambio, preços_em_dolares))\n",
        "print(preços_em_reais)"
      ],
      "metadata": {
        "colab": {
          "base_uri": "https://localhost:8080/"
        },
        "id": "YEbMT04lLlHT",
        "outputId": "03005a67-5708-4ea0-b39d-3075254df2cb"
      },
      "execution_count": 10,
      "outputs": [
        {
          "output_type": "stream",
          "name": "stdout",
          "text": [
            "[525.0, 262.5, 393.75, 630.0]\n"
          ]
        }
      ]
    },
    {
      "cell_type": "code",
      "source": [
        "preços_em_reais"
      ],
      "metadata": {
        "colab": {
          "base_uri": "https://localhost:8080/"
        },
        "id": "05m7f4goMcZw",
        "outputId": "424c55aa-fb31-4779-a556-4fca4021e249"
      },
      "execution_count": 11,
      "outputs": [
        {
          "output_type": "execute_result",
          "data": {
            "text/plain": [
              "[525.0, 262.5, 393.75, 630.0]"
            ]
          },
          "metadata": {},
          "execution_count": 11
        }
      ]
    },
    {
      "cell_type": "code",
      "source": [
        "# A ORDEM IMPORTA--\n",
        "#EXEMPLOS DE MAIS TUPLAS E UTILIDADE\n",
        "vogais= ('a', 'e', 'i', 'o', 'u')\n",
        "print(f\"tipo do objeto vogais = {type(vogais)}\")\n",
        "for p, x in enumerate(vogais):\n",
        "  print(f\"posição = {p} valor = {x}\")"
      ],
      "metadata": {
        "colab": {
          "base_uri": "https://localhost:8080/"
        },
        "id": "lA_6DNlWMgxN",
        "outputId": "4beba395-83e9-4a24-bb6c-7dd9ec707064"
      },
      "execution_count": 12,
      "outputs": [
        {
          "output_type": "stream",
          "name": "stdout",
          "text": [
            "tipo do objeto vogais = <class 'tuple'>\n",
            "posição = 0 valor = a\n",
            "posição = 1 valor = e\n",
            "posição = 2 valor = i\n",
            "posição = 3 valor = o\n",
            "posição = 4 valor = u\n"
          ]
        }
      ]
    }
  ]
}