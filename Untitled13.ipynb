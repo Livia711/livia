{
  "nbformat": 4,
  "nbformat_minor": 0,
  "metadata": {
    "colab": {
      "provenance": [],
      "authorship_tag": "ABX9TyNi0NI5oo9RPA6eVJ3motKe",
      "include_colab_link": true
    },
    "kernelspec": {
      "name": "python3",
      "display_name": "Python 3"
    },
    "language_info": {
      "name": "python"
    }
  },
  "cells": [
    {
      "cell_type": "markdown",
      "metadata": {
        "id": "view-in-github",
        "colab_type": "text"
      },
      "source": [
        "<a href=\"https://colab.research.google.com/github/Livia711/livia/blob/main/Untitled13.ipynb\" target=\"_parent\"><img src=\"https://colab.research.google.com/assets/colab-badge.svg\" alt=\"Open In Colab\"/></a>"
      ]
    },
    {
      "cell_type": "code",
      "source": [
        "import matplotlib.pyplot as plt\n",
        "\n",
        "# Casse para representar um livro\n",
        "class Livro:\n",
        "    def __init__(self, titulo, autor, ano_publicacao):\n",
        "        self.titulo = titulo\n",
        "        self.autor = autor\n",
        "        self.ano_publicacao = ano_publicacao\n",
        "\n",
        "    def __str__(self):\n",
        "        return f\"{self.titulo} de {self.autor} ({self.ano_publicacao})\"\n",
        "\n",
        "\n",
        "# Criar uma lista de livros\n",
        "biblioteca = []\n",
        "\n",
        "# Lista para armazenar anos de publicação\n",
        "anos = []\n",
        "\n",
        "# Função para adicionar um livro à biblioteca\n",
        "def adicionar_livro(titulo, autor, ano_publicacao):\n",
        "    # Indent the code block within the function\n",
        "    novo_livro = Livro(titulo, autor, ano_publicacao)\n",
        "    biblioteca.append(novo_livro) # Fix typo: nvo_livro -> novo_livro\n",
        "    anos.append(ano_publicacao)\n",
        "    print(f\"Livro '{titulo}' adicionado à biblioteca!\")\n",
        "\n",
        "# Função para listar todos os livros na biblioteca\n",
        "def listar_livros(): # Move this function outside of adicionar_livro\n",
        "        print(\"Livros na biblioteca:\")\n",
        "        for livro in biblioteca:\n",
        "            print(livro)\n",
        "\n",
        "# Adicionar alguns livros à biblioteca\n",
        "adicionar_livro(\"Dom Casmurro\", \"Machado de Assis\", 1899)\n",
        "adicionar_livro(\"1984\", \"George Orwell\", 1949)\n",
        "adicionar_livro(\"O Alquimista\", \"Paulo Coelho\", 1988)\n",
        "adicionar_livro(\"A Culpa é das Estrelas\", \"John Green\", 2012)\n",
        "adicionar_livro(\"O Senhor dos Anéis\", \"J.R.R. Tolkien\", 1954)\n",
        "\n",
        "# Listar todos os livros na biblioteca\n",
        "listar_livros()\n",
        "\n",
        "# Criar um gráfico de livros por ano\n",
        "ano = list(set(anos))\n",
        "livros_por_ano = [anos.count(a) for a in ano]\n",
        "\n",
        "# Criar um gráfico de linha\n",
        "plt.plot(ano, livros_por_ano, marker= 'o', linestyle='-') #Fix typo: contagem_por_ano -> livros_por_ano\n",
        "plt.xlabel('Ano de Publicação')\n",
        "plt.ylabel('Número de Livros')\n",
        "plt.title('DIstribuição de Livros na Biblioteca por Ano de Publicaçao')\n",
        "\n",
        "# Adicionar rótulos aos pontos de dados\n",
        "for i, valor in enumerate(livros_por_ano):\n",
        "    plt.text(ano[i], valor, str(valor), ha='center', va='bottom')\n",
        "\n",
        "plt.grid(True)\n",
        "\n",
        "plt.show()"
      ],
      "metadata": {
        "colab": {
          "base_uri": "https://localhost:8080/",
          "height": 663
        },
        "id": "XKeGxanZfD8D",
        "outputId": "81e31a9d-7e11-4c3b-d81f-2a00007ad1ac"
      },
      "execution_count": 38,
      "outputs": [
        {
          "output_type": "stream",
          "name": "stdout",
          "text": [
            "Livro 'Dom Casmurro' adicionado à biblioteca!\n",
            "Livro '1984' adicionado à biblioteca!\n",
            "Livro 'O Alquimista' adicionado à biblioteca!\n",
            "Livro 'A Culpa é das Estrelas' adicionado à biblioteca!\n",
            "Livro 'O Senhor dos Anéis' adicionado à biblioteca!\n",
            "Livros na biblioteca:\n",
            "Dom Casmurro de Machado de Assis (1899)\n",
            "1984 de George Orwell (1949)\n",
            "O Alquimista de Paulo Coelho (1988)\n",
            "A Culpa é das Estrelas de John Green (2012)\n",
            "O Senhor dos Anéis de J.R.R. Tolkien (1954)\n"
          ]
        },
        {
          "output_type": "display_data",
          "data": {
            "text/plain": [
              "<Figure size 640x480 with 1 Axes>"
            ],
            "image/png": "[encoded data removed]"
          },
          "metadata": {}
        }
      ]
    },
    {
      "cell_type": "code",
      "source": [
        "aluno = {\n",
        "\n",
        "    'nome': 'Ana',\n",
        "\n",
        "    'idade': 25,\n",
        "\n",
        "    'curso': 'Engenharia',\n",
        "\n",
        "    'matricula': 12345\n",
        "\n",
        "}\n",
        "\n",
        "\n",
        "\n",
        "# Operação 1: Adicionar o campo 'nota' com valor 8.5 ao dicionário\n",
        "\n",
        "aluno['nota'] = 8.5\n",
        "\n",
        "\n",
        "\n",
        "# Operação 2: Atualizar a idade para 26\n",
        "\n",
        "aluno['idade'] = 26\n",
        "\n",
        "\n",
        "\n",
        "# Operação 3: Remover o campo 'matricula' do dicionário\n",
        "\n",
        "del aluno['matricula']\n"
      ],
      "metadata": {
        "colab": {
          "base_uri": "https://localhost:8080/"
        },
        "id": "PzndMxO7hLua",
        "outputId": "1b83da6d-1661-4e44-b796-f33179710a89"
      },
      "execution_count": 40,
      "outputs": [
        {
          "output_type": "stream",
          "name": "stdout",
          "text": [
            "nome\n"
          ]
        }
      ]
    }
  ]
}