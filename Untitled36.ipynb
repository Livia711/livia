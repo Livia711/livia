{
  "nbformat": 4,
  "nbformat_minor": 0,
  "metadata": {
    "colab": {
      "provenance": [],
      "authorship_tag": "ABX9TyMyN0UnM6+DjITLQpb1kPvO",
      "include_colab_link": true
    },
    "kernelspec": {
      "name": "python3",
      "display_name": "Python 3"
    },
    "language_info": {
      "name": "python"
    }
  },
  "cells": [
    {
      "cell_type": "markdown",
      "metadata": {
        "id": "view-in-github",
        "colab_type": "text"
      },
      "source": [
        "<a href=\"https://colab.research.google.com/github/Livia711/livia/blob/main/Untitled36.ipynb\" target=\"_parent\"><img src=\"https://colab.research.google.com/assets/colab-badge.svg\" alt=\"Open In Colab\"/></a>"
      ]
    },
    {
      "cell_type": "code",
      "execution_count": null,
      "metadata": {
        "id": "AKCaX59vCPnp"
      },
      "outputs": [],
      "source": [
        "Termo1 = int(0)\n",
        "Termo2 = int(1)\n",
        "Termo3 = int(0)\n",
        "print ( 'Consulta da Sequência de Fibonacci')\n",
        "Valor = int(input('Digite um número: '))\n",
        "while Valor > Termo3:\n",
        "    Termo3 = Termo1 + Termo2\n",
        "    Termo1 = Termo2\n",
        "    Termo2 = Termo3\n",
        "if Valor == 0 or Valor == 1:\n",
        "    print ('O número faz parte da sequência de Fibonacci.')\n",
        "elif Valor == Termo3:\n",
        "    print ('O número faz parte da sequência de Fibonacci.')\n",
        "else:\n",
        "    print ('O número digitado não faz parte da sequência de Fibonacci.')"
      ]
    },
    {
      "cell_type": "code",
      "source": [
        "texto = \"chegando em casa vou descansar\"\n",
        "quantidade = texto.count(\"a\")\n",
        "print(\"No texto\", texto)\n",
        "print(\"a letra 'a' aparece\", quantidade, \"vezes no texto.\")\n",
        "print(\"Está em maiúsculo\", texto.isupper())\n",
        "print(\"Está em minúsculo\", texto.islower())"
      ],
      "metadata": {
        "colab": {
          "base_uri": "https://localhost:8080/"
        },
        "id": "0Oax_HqqCkqG",
        "outputId": "0b155393-b1a8-487d-821e-96b4c5e8fd26"
      },
      "execution_count": 25,
      "outputs": [
        {
          "output_type": "stream",
          "name": "stdout",
          "text": [
            "No texto chegando em casa vou descansar\n",
            "a letra 'a' aparece 5 vezes no texto.\n",
            "Está em maiúsculo False\n",
            "Está em minúsculo True\n"
          ]
        }
      ]
    },
    {
      "cell_type": "code",
      "source": [
        "\n",
        "\n",
        "Indice = 12\n",
        "\n",
        "Soma = 0\n",
        "\n",
        "K = 0\n",
        "\n",
        "while K < Indice:\n",
        "\n",
        "   K = K + 1\n",
        "\n",
        "   Soma = Soma + K\n",
        "\n",
        "print (Soma)"
      ],
      "metadata": {
        "colab": {
          "base_uri": "https://localhost:8080/"
        },
        "id": "MbHZ-p-cEHiX",
        "outputId": "188495db-efc6-4511-b78e-d7efbb86a578"
      },
      "execution_count": 26,
      "outputs": [
        {
          "output_type": "stream",
          "name": "stdout",
          "text": [
            "78\n"
          ]
        }
      ]
    },
    {
      "cell_type": "code",
      "source": [
        "\n"
      ],
      "metadata": {
        "id": "018QyVeVGsYK"
      },
      "execution_count": null,
      "outputs": []
    }
  ]
}