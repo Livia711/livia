{
  "nbformat": 4,
  "nbformat_minor": 0,
  "metadata": {
    "colab": {
      "provenance": [],
      "authorship_tag": "ABX9TyNvtQADummWNy0ilbctwtYm",
      "include_colab_link": true
    },
    "kernelspec": {
      "name": "python3",
      "display_name": "Python 3"
    },
    "language_info": {
      "name": "python"
    }
  },
  "cells": [
    {
      "cell_type": "markdown",
      "metadata": {
        "id": "view-in-github",
        "colab_type": "text"
      },
      "source": [
        "<a href=\"https://colab.research.google.com/github/Livia711/livia/blob/main/Untitled4.ipynb\" target=\"_parent\"><img src=\"https://colab.research.google.com/assets/colab-badge.svg\" alt=\"Open In Colab\"/></a>"
      ]
    },
    {
      "cell_type": "code",
      "execution_count": 4,
      "metadata": {
        "colab": {
          "base_uri": "https://localhost:8080/"
        },
        "id": "9JUzgZslRYoo",
        "outputId": "73e86d5f-ce9b-4597-e6ba-9577e8d32a81"
      },
      "outputs": [
        {
          "output_type": "stream",
          "name": "stdout",
          "text": [
            "True\n",
            "{'nome': 'Ana', 'idade': 20}\n"
          ]
        }
      ],
      "source": [
        "# Exemplo 1 - Criação de um dicionário vazio, seguido de atribuição de chaver e valores\n",
        "dici_1 = {}\n",
        "dici_1 ['nome' ] = \"Ana\"\n",
        "dici_1 ['idade'] = 20\n",
        "# Exemplo 2 - Criação de um dicionário com pares chave: valor\n",
        "dici_2 = {'nome': 'Ana', 'idade': 20}\n",
        "# Exemplo 3 - Criação de um dicionario com uma lista de tuplas representando pares chave: valor\n",
        "dici_3 = dict([('nome', 'Ana'), ('idade', 20)])\n",
        "# Exemplo 4 - Criação de um dicionário usando a função built-in zip() e duas listas, uma para as chaves e outra para os valores.\n",
        "dici_4 = dict(zip(['nome', 'idade'], ['Ana', 20]))\n",
        "# Teste se todas as construção resultam em objetos iguais\n",
        "print(dici_1 == dici_2 == dici_3 == dici_4) # Deve imprimir True\n",
        "print(dici_1)"
      ]
    }
  ]
}