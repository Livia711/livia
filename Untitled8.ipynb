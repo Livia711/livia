{
  "nbformat": 4,
  "nbformat_minor": 0,
  "metadata": {
    "colab": {
      "provenance": [],
      "authorship_tag": "ABX9TyPcO0pXXFNPfS06npTkN6/m",
      "include_colab_link": true
    },
    "kernelspec": {
      "name": "python3",
      "display_name": "Python 3"
    },
    "language_info": {
      "name": "python"
    }
  },
  "cells": [
    {
      "cell_type": "markdown",
      "metadata": {
        "id": "view-in-github",
        "colab_type": "text"
      },
      "source": [
        "<a href=\"https://colab.research.google.com/github/Livia711/livia/blob/main/Untitled8.ipynb\" target=\"_parent\"><img src=\"https://colab.research.google.com/assets/colab-badge.svg\" alt=\"Open In Colab\"/></a>"
      ]
    },
    {
      "cell_type": "code",
      "source": [
        "# Importe as bibliotecas NumPy\n",
        "import numpy as np\n",
        "\n",
        "# Dados dos participantes\n",
        "participantes = [\n",
        "    {\n",
        "        \"nome\": \"Ana\",\n",
        "        \"localização\": \"EUA\",\n",
        "        \"afiliação\": \"Universidade A\",\n",
        "        \"interesses\": [\"Astronomia\"] #Removed extra whitespace\n",
        "    },\n",
        "    {\n",
        "        \"nome\": \"João\",\n",
        "        \"localização\": \"Brasil\",\n",
        "        \"afiliação\": \"Universidade B\",\n",
        "        \"interesses\": [\"Matemática, Astronomia\"]\n",
        "    },\n",
        "    { \"nome\": \"Maria\", #Removed extra whitespace\n",
        "        \"localização\": \"India\",\n",
        "        \"afiliação\": \"Universidade C\",\n",
        "        \"interesses\": [\"Quimica, Astronomia\"]\n",
        "    }\n",
        "]\n",
        "# Usando sets para identificar diferentes regiões dos participantes\n",
        "regiões = set(participante[\"localização\"] for participante in participantes)\n",
        "#usando um dioconario ´para categorizar afiliações\n",
        "afiliações = {}\n",
        "for participante in participantes:\n",
        "    afiliação = participante[\"afiliação\"]\n",
        "    if afiliação not in afiliações:\n",
        "        afiliações[afiliação] = []\n",
        "    afiliações[afiliação].append(participante[\"nome\"]) # Fixed key from \"nome \" to \"nome\" and removed extra space on line 25\n",
        "    #usando NumPy para analisar áreas de interesse\n",
        "areas_de_interesse = set(interesse for participante in participantes for interesse in participante[\"interesses\"])\n",
        "interesses_unicos, contagem = np.unique(list(areas_de_interesse), return_counts=True) #removed indent on line 35\n",
        "area_mais_popular = interesses_unicos[np.argmax(contagem)] #removed indent on line 36\n",
        "#resultados\n",
        "print (\"Regiões dos participantes:\", regiões) # Fixed variable name from regioes to regiões\n",
        "print (\"Afiliações dos participantes:\", afiliações)\n",
        "for afiliação, nomes in afiliações.items():\n",
        "    print (f\"Participantes da afiliação {afiliação}: {', '.join(nomes)}\")\n",
        "print (\"Área de interesse mais popular:\", area_mais_popular)"
      ],
      "metadata": {
        "colab": {
          "base_uri": "https://localhost:8080/"
        },
        "id": "BcWXC5MFaYii",
        "outputId": "dbe20ee7-41ca-4ab9-f278-28ba470ad486"
      },
      "execution_count": 24,
      "outputs": [
        {
          "output_type": "stream",
          "name": "stdout",
          "text": [
            "Regiões dos participantes: {'Brasil', 'EUA', 'India'}\n",
            "Afiliações dos participantes: {'Universidade A': ['Ana'], 'Universidade B': ['João'], 'Universidade C': ['Maria']}\n",
            "Participantes da afiliação Universidade A: Ana\n",
            "Participantes da afiliação Universidade B: João\n",
            "Participantes da afiliação Universidade C: Maria\n",
            "Área de interesse mais popular: Astronomia\n"
          ]
        }
      ]
    }
  ]
}