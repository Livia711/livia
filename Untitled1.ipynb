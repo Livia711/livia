{
  "nbformat": 4,
  "nbformat_minor": 0,
  "metadata": {
    "colab": {
      "provenance": [],
      "authorship_tag": "ABX9TyP1sM7TYOFWZSFlfEQa00cI",
      "include_colab_link": true
    },
    "kernelspec": {
      "name": "python3",
      "display_name": "Python 3"
    },
    "language_info": {
      "name": "python"
    }
  },
  "cells": [
    {
      "cell_type": "markdown",
      "metadata": {
        "id": "view-in-github",
        "colab_type": "text"
      },
      "source": [
        "<a href=\"https://colab.research.google.com/github/Livia711/livia/blob/main/Untitled1.ipynb\" target=\"_parent\"><img src=\"https://colab.research.google.com/assets/colab-badge.svg\" alt=\"Open In Colab\"/></a>"
      ]
    },
    {
      "cell_type": "markdown",
      "source": [
        "# Nova seção"
      ],
      "metadata": {
        "id": "bPJ3P-GIKmyD"
      }
    },
    {
      "cell_type": "code",
      "source": [
        "texto = \"Explorando a diversidade de linguagens de programação com Python.\"\n",
        "\n",
        "print(f\"tamanho do texto = {len(texto)}\")\n",
        "print(f\"python in texto = {'Python' in texto}\")\n",
        "print(f\"Quantidade de e no texto = {texto.count('e')}\")\n",
        "print(f\"As 5 primeiras letras são: {texto [:5]}\")"
      ],
      "metadata": {
        "colab": {
          "base_uri": "https://localhost:8080/"
        },
        "id": "NIdEXRBqFf7C",
        "outputId": "b858fe5c-2677-48ff-ad85-034c466d7b8f"
      },
      "execution_count": 3,
      "outputs": [
        {
          "output_type": "stream",
          "name": "stdout",
          "text": [
            "tamanho do texto = 65\n",
            "python in texto = True\n",
            "Quantidade de e no texto = 5\n",
            "As 5 primeiras letras são: Explo\n"
          ]
        }
      ]
    },
    {
      "cell_type": "code",
      "source": [
        "texto[13]"
      ],
      "metadata": {
        "colab": {
          "base_uri": "https://localhost:8080/",
          "height": 36
        },
        "id": "vthBQZRqHjYp",
        "outputId": "2a1a0835-ecf1-4728-d8f8-879746f6f789"
      },
      "execution_count": 5,
      "outputs": [
        {
          "output_type": "execute_result",
          "data": {
            "text/plain": [
              "'d'"
            ],
            "application/vnd.google.colaboratory.intrinsic+json": {
              "type": "string"
            }
          },
          "metadata": {},
          "execution_count": 5
        }
      ]
    }
  ]
}