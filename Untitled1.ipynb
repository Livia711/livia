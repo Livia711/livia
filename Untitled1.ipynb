{
  "nbformat": 4,
  "nbformat_minor": 0,
  "metadata": {
    "colab": {
      "provenance": [],
      "authorship_tag": "ABX9TyOX9ZxyrGRj2d1QSt990drc",
      "include_colab_link": true
    },
    "kernelspec": {
      "name": "python3",
      "display_name": "Python 3"
    },
    "language_info": {
      "name": "python"
    }
  },
  "cells": [
    {
      "cell_type": "markdown",
      "metadata": {
        "id": "view-in-github",
        "colab_type": "text"
      },
      "source": [
        "<a href=\"https://colab.research.google.com/github/Livia711/livia/blob/main/Untitled1.ipynb\" target=\"_parent\"><img src=\"https://colab.research.google.com/assets/colab-badge.svg\" alt=\"Open In Colab\"/></a>"
      ]
    },
    {
      "cell_type": "code",
      "execution_count": 35,
      "metadata": {
        "colab": {
          "base_uri": "https://localhost:8080/"
        },
        "id": "WWiKZiwxCzVv",
        "outputId": "2bf28eec-20d5-4869-ec6a-bfbf42cfc9a4"
      },
      "outputs": [
        {
          "output_type": "stream",
          "name": "stdout",
          "text": [
            "Nome do Aluno: Felipe Simões\n",
            "Série do Aluno: 1º ano\n",
            "Turma do Aluno: A\n",
            "Notas do Aluno: [5.5, 8.0, 6.6, 9.0, 5.0]\n",
            "Calculo da média: 6.82\n",
            "Aluno: Reprovado\n"
          ]
        }
      ],
      "source": [
        "# Calculo da media\n",
        "nome = \"Felipe Simões\"\n",
        "serie = \"1º ano\"\n",
        "turma = \"A\"\n",
        "# lista das notas\n",
        "notas = [5.5, 8.0, 6.6, 9.0, 5.0]\n",
        "# função regular para calcular a média\n",
        "def calcular_media(notas):\n",
        "    total = sum(notas)\n",
        "    media = total / len(notas)\n",
        "    return media\n",
        "\n",
        "# Função lambda para arredondar a média para duas casas decimais\n",
        "arredondas_media = lambda media: round(media, 2)\n",
        "\n",
        "# Calcular média\n",
        "media = calcular_media(notas)\n",
        "media_arredondada = arredondas_media(media)\n",
        "\n",
        "# Verificar os aprovados e reprovados\n",
        "situação = \"Aprovado\" if media_arredondada >= 7 else \"Reprovado\"\n",
        "\n",
        "# Resultado\n",
        "print(\"Nome do Aluno:\", nome)\n",
        "print(\"Série do Aluno:\", serie)\n",
        "print(\"Turma do Aluno:\", turma)\n",
        "print(\"Notas do Aluno:\", notas)\n",
        "print(\"Calculo da média:\", media_arredondada)\n",
        "print(\"Aluno:\", situação)\n",
        "\n"
      ]
    },
    {
      "cell_type": "markdown",
      "source": [
        "# Nova seção"
      ],
      "metadata": {
        "id": "bPJ3P-GIKmyD"
      }
    }
  ]
}