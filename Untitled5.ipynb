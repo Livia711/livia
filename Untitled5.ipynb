{
  "nbformat": 4,
  "nbformat_minor": 0,
  "metadata": {
    "colab": {
      "provenance": [],
      "authorship_tag": "ABX9TyMUWZaTPZ4le0WbAlkRAnvk",
      "include_colab_link": true
    },
    "kernelspec": {
      "name": "python3",
      "display_name": "Python 3"
    },
    "language_info": {
      "name": "python"
    }
  },
  "cells": [
    {
      "cell_type": "markdown",
      "metadata": {
        "id": "view-in-github",
        "colab_type": "text"
      },
      "source": [
        "<a href=\"https://colab.research.google.com/github/Livia711/livia/blob/main/Untitled5.ipynb\" target=\"_parent\"><img src=\"https://colab.research.google.com/assets/colab-badge.svg\" alt=\"Open In Colab\"/></a>"
      ]
    },
    {
      "cell_type": "code",
      "execution_count": 4,
      "metadata": {
        "colab": {
          "base_uri": "https://localhost:8080/"
        },
        "id": "f5a635tJPnHj",
        "outputId": "b2f3d714-f951-4d15-a8a3-e3a5f43f0abc"
      },
      "outputs": [
        {
          "output_type": "stream",
          "name": "stdout",
          "text": [
            "conjunto após adicionar elementos: {10, 20, 30}\n",
            "20 está no conjunto.\n",
            "conjunto após remover um elemento: {10, 30}\n"
          ]
        }
      ],
      "source": [
        "## add(), in remove\n",
        "\n",
        "# Criação um conjunto vazio\n",
        "meu_conjunto = set()\n",
        "\n",
        "\n",
        "# Adiciona elementos ao conjunto\n",
        "meu_conjunto.add(10)\n",
        "meu_conjunto.add(20)\n",
        "meu_conjunto.add(30)\n",
        "#imprimindo o conjunto\n",
        "print(\"conjunto após adicionar elementos:\", meu_conjunto)\n",
        "#Verificando se um elemento está no conjunto\n",
        "elemento = 20\n",
        "if elemento in meu_conjunto:\n",
        "    print(f\"{elemento} está no conjunto.\")\n",
        "else:\n",
        "    print(f\"{elemento} não está no conjunto.\")\n",
        "\n",
        "# Remove um elemento do conjunto\n",
        "meu_conjunto.remove(20)\n",
        "#imprimindo o conjunto\n",
        "print(\"conjunto após remover um elemento:\", meu_conjunto)"
      ]
    }
  ]
}