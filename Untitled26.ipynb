{
  "nbformat": 4,
  "nbformat_minor": 0,
  "metadata": {
    "colab": {
      "provenance": [],
      "authorship_tag": "ABX9TyMkk//mVn0+txmQKGKMS/LP",
      "include_colab_link": true
    },
    "kernelspec": {
      "name": "python3",
      "display_name": "Python 3"
    },
    "language_info": {
      "name": "python"
    }
  },
  "cells": [
    {
      "cell_type": "markdown",
      "metadata": {
        "id": "view-in-github",
        "colab_type": "text"
      },
      "source": [
        "<a href=\"https://colab.research.google.com/github/Livia711/livia/blob/main/Untitled26.ipynb\" target=\"_parent\"><img src=\"https://colab.research.google.com/assets/colab-badge.svg\" alt=\"Open In Colab\"/></a>"
      ]
    },
    {
      "cell_type": "code",
      "source": [
        "#assert\n",
        "def sum_numbers(numbers):\n",
        "  assert sum([1, 2, 3, 4]) == 10\n",
        "  assert sum([-1, 0, 1]) == 0\n",
        "  assert sum([]) == 0\n",
        "  return sum(numbers)\n",
        "teste = sum_numbers([1, 2, 3, 5])\n",
        "print(teste)"
      ],
      "metadata": {
        "colab": {
          "base_uri": "https://localhost:8080/"
        },
        "id": "6Uqb-Sf8zIpW",
        "outputId": "fa2c1fa1-8647-4a57-da21-3005ae4d08b1"
      },
      "execution_count": 40,
      "outputs": [
        {
          "output_type": "stream",
          "name": "stdout",
          "text": [
            "11\n"
          ]
        }
      ]
    },
    {
      "cell_type": "code",
      "source": [
        "#doctest\n",
        "def sum_numbers(numbers):\n",
        "  \"\"\"\n",
        "  Soma os números em uma lista.\n",
        "\n",
        "  Exemplos:\n",
        "  >>> sum_numbers([1, 2, 3, 4, ])\n",
        "  10\n",
        "  >>> sum_numbers([-1, 0, 1])\n",
        "  0\n",
        "  >>> sum_numbers([])\n",
        "  0\n",
        "  \"\"\"\n",
        "  return sum(numbers)\n",
        "\n",
        "  if _name_ == \"_main_ \":\n",
        "    import doctest\n",
        "    doctest.testmod()"
      ],
      "metadata": {
        "id": "GKgIPAY6zwwi"
      },
      "execution_count": 42,
      "outputs": []
    },
    {
      "cell_type": "code",
      "source": [
        "#unittest\n",
        "import unittest\n",
        "def sum_numbers(numbers):\n",
        "  return sum(numbers)\n",
        "\n",
        "  class TestSumNumbers(unittest.TestCase):\n",
        "    def test_sum_numbers_positive(self):\n",
        "      self.assertEqual(sum_numbers([1, 2, 3, 4]), 10)\n",
        "\n",
        "      def test_sum_numbers_mixed(self):\n",
        "        self.assertEqual(sum_numbers([-1, 0, 1]), 0)\n",
        "\n",
        "        def test_sum_numbers_empty(self):\n",
        "          self.assertEqual(sum_numbers([]), 0)\n",
        "\n",
        "          if __name__ == \"__main__\":\n",
        "            unittest.main(argv=['first-arg-is-ignored'], exit=False)"
      ],
      "metadata": {
        "id": "s9p1rxf71wCB"
      },
      "execution_count": 44,
      "outputs": []
    }
  ]
}