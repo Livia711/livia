{
  "nbformat": 4,
  "nbformat_minor": 0,
  "metadata": {
    "colab": {
      "provenance": [],
      "authorship_tag": "ABX9TyOo6mjoqdr80dX27IO8sx92",
      "include_colab_link": true
    },
    "kernelspec": {
      "name": "python3",
      "display_name": "Python 3"
    },
    "language_info": {
      "name": "python"
    }
  },
  "cells": [
    {
      "cell_type": "markdown",
      "metadata": {
        "id": "view-in-github",
        "colab_type": "text"
      },
      "source": [
        "<a href=\"https://colab.research.google.com/github/Livia711/livia/blob/main/Untitled10.ipynb\" target=\"_parent\"><img src=\"https://colab.research.google.com/assets/colab-badge.svg\" alt=\"Open In Colab\"/></a>"
      ]
    },
    {
      "cell_type": "code",
      "source": [
        "class Veiculo:\n",
        "    def __init__(self, marca, modelo, ano):\n",
        "        self.marca = marca\n",
        "        self.modelo = modelo\n",
        "        self.ano = ano\n",
        "        self.velocidade = 0\n",
        "\n",
        "    def acelerar(self, incremento):\n",
        "        self.velocidade += incremento\n",
        "\n",
        "    def frear(self, incremento):\n",
        "        self.velocidade -= incremento # Corrected typo here from 'decremento' to 'incremento'\n",
        "\n",
        "    def status(self):\n",
        "        return f\"marca: {self.marca}, Modelo: {self.modelo}, Ano: {self.ano}, Velocidade: {self.velocidade} km/h\"\n",
        "\n",
        "class Carro(Veiculo):\n",
        "    def __init__(self, marca, modelo, ano, potencia):\n",
        "        super().__init__(marca, modelo, ano)\n",
        "        self.potencia = potencia\n",
        "\n",
        "    def acelerar(self, incremento):\n",
        "        # Carris podem acelerar mais rapido.\n",
        "        self.velocidade += incremento + self.potencia # Corrected typo here from 'sel.potencia' to 'self.potencia'\n",
        "\n",
        "class Bicicleta(Veiculo):\n",
        "    def __init__(self, marca, modelo, ano, tipo):\n",
        "        super().__init__(marca, modelo, ano)\n",
        "        self.tipo = tipo\n",
        "\n",
        "    def status(self):\n",
        "        return f\"marca: {self.marca}, Modelo: {self.modelo}, Ano: {self.ano}, Velocidade: {self.velocidade} km/h, Tipo: {self.tipo}\"\n",
        "\n",
        "# Criando objetos\n",
        "carro1 = Carro(\"Toyota\", \"Corolla\", 2022, 150)\n",
        "bicicleta1 = Bicicleta(\"Trek\", \"Mountain Bike\", 2021, \"MTB\")\n",
        "\n",
        "# Acelerarando e vifificando o status\n",
        "carro1.acelerar(50) # Removed extra space\n",
        "bicicleta1.acelerar(20) # Removed extra space\n",
        "\n",
        "# Exibindo o status dos veiculos\n",
        "print(\"Status do carro\")\n",
        "print(carro1.status()) # Added parentheses to call the method\n",
        "\n",
        "print(\"\\nStatus da Bicicleta\") # Corrected typo from 'printo' to 'print'\n",
        "print(bicicleta1.status())"
      ],
      "metadata": {
        "colab": {
          "base_uri": "https://localhost:8080/"
        },
        "id": "AO0YnWCdRcRD",
        "outputId": "f03379c6-5ef0-4d0b-972e-4bd967042ac7"
      },
      "execution_count": 3,
      "outputs": [
        {
          "output_type": "stream",
          "name": "stdout",
          "text": [
            "Status do carro\n",
            "marca: Toyota, Modelo: Corolla, Ano: 2022, Velocidade: 200 km/h\n",
            "\n",
            "Status da Bicicleta\n",
            "marca: Trek, Modelo: Mountain Bike, Ano: 2021, Velocidade: 20 km/h, Tipo: MTB\n"
          ]
        }
      ]
    }
  ]
}