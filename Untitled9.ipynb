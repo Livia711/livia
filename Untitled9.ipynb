{
  "nbformat": 4,
  "nbformat_minor": 0,
  "metadata": {
    "colab": {
      "provenance": [],
      "authorship_tag": "ABX9TyMJHgHpbFH1UVj5MGwKJFJ5",
      "include_colab_link": true
    },
    "kernelspec": {
      "name": "python3",
      "display_name": "Python 3"
    },
    "language_info": {
      "name": "python"
    }
  },
  "cells": [
    {
      "cell_type": "markdown",
      "metadata": {
        "id": "view-in-github",
        "colab_type": "text"
      },
      "source": [
        "<a href=\"https://colab.research.google.com/github/Livia711/livia/blob/main/Untitled9.ipynb\" target=\"_parent\"><img src=\"https://colab.research.google.com/assets/colab-badge.svg\" alt=\"Open In Colab\"/></a>"
      ]
    },
    {
      "cell_type": "code",
      "source": [
        "class Animal:\n",
        "    def __init__(self, nome): # Added indentation (4 spaces)\n",
        "        self.nome = nome\n",
        "    def fazer_barulho(self): # Added indentation (4 spaces)\n",
        "        pass\n",
        "class Cachorro(Animal):\n",
        "    def fazer_barulho(self):\n",
        "       return \"Latir\"\n",
        "class Gato(Animal):\n",
        "    def fazer_barulho(self):\n",
        "        return \"Miar\""
      ],
      "metadata": {
        "id": "FiYHa54DitQA"
      },
      "execution_count": 42,
      "outputs": []
    },
    {
      "cell_type": "code",
      "source": [
        "rex = Cachorro(\"Rex\")\n",
        "whiskers = Gato (\"Whiskers\")\n",
        "\n",
        "print(rex.fazer_barulho())\n",
        "print(whiskers.fazer_barulho())"
      ],
      "metadata": {
        "colab": {
          "base_uri": "https://localhost:8080/"
        },
        "id": "FO7p2J_siyCT",
        "outputId": "e0ba48ec-47f6-4ec6-be9c-b8ffdd44bd8d"
      },
      "execution_count": 43,
      "outputs": [
        {
          "output_type": "stream",
          "name": "stdout",
          "text": [
            "Latir\n",
            "Miar\n"
          ]
        }
      ]
    }
  ]
}