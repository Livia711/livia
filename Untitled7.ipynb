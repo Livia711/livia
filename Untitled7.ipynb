{
  "nbformat": 4,
  "nbformat_minor": 0,
  "metadata": {
    "colab": {
      "provenance": [],
      "authorship_tag": "ABX9TyN5iKkmLCx+FHZ9yDv661hQ",
      "include_colab_link": true
    },
    "kernelspec": {
      "name": "python3",
      "display_name": "Python 3"
    },
    "language_info": {
      "name": "python"
    }
  },
  "cells": [
    {
      "cell_type": "markdown",
      "metadata": {
        "id": "view-in-github",
        "colab_type": "text"
      },
      "source": [
        "<a href=\"https://colab.research.google.com/github/Livia711/livia/blob/main/Untitled7.ipynb\" target=\"_parent\"><img src=\"https://colab.research.google.com/assets/colab-badge.svg\" alt=\"Open In Colab\"/></a>"
      ]
    },
    {
      "cell_type": "code",
      "execution_count": 2,
      "metadata": {
        "colab": {
          "base_uri": "https://localhost:8080/"
        },
        "id": "JCiST4X6UT9c",
        "outputId": "17fb7d86-942e-43dc-b7d5-2275f7b0b7f2"
      },
      "outputs": [
        {
          "output_type": "stream",
          "name": "stdout",
          "text": [
            "Array original\n",
            "[1 2 3 4 5]\n",
            "\n",
            "Array ao quadrado\n",
            "[ 1  4  9 16 25]\n",
            "\n",
            "Soma dos elementos\n",
            "15\n",
            "\n",
            "Elemento no índice 2\n"
          ]
        }
      ],
      "source": [
        "# Importe a biblioteca Numpy\n",
        "import numpy as np\n",
        "#crie um NumPy de números inteiros\n",
        "my_array = np.array([1, 2, 3, 4, 5])\n",
        "# Imprima o array\n",
        "print(\"Array original\")\n",
        "print(my_array)\n",
        "\n",
        "# Realizar operações matemáticas com o array\n",
        "squared_array = my_array ** 2 # Eleva cada elemento ao quadrado\n",
        "sum_of_elements = np.sum(my_array) # Calcula a soma de todos os elementos\n",
        "# imprima os resultados\n",
        "print(\"\\nArray ao quadrado\")\n",
        "print(squared_array)\n",
        "print(\"\\nSoma dos elementos\")\n",
        "print(sum_of_elements)\n",
        "# Acesse elementos do array\n",
        "element_at_index_2 = my_array[2] # Acessa o elemento no índice 2\n",
        "print(\"\\nElemento no índice 2\")\n"
      ]
    }
  ]
}