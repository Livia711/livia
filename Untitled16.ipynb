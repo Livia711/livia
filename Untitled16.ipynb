{
  "nbformat": 4,
  "nbformat_minor": 0,
  "metadata": {
    "colab": {
      "provenance": [],
      "authorship_tag": "ABX9TyNbDt7qeaYRh+IrdQ0e+Tfl",
      "include_colab_link": true
    },
    "kernelspec": {
      "name": "python3",
      "display_name": "Python 3"
    },
    "language_info": {
      "name": "python"
    }
  },
  "cells": [
    {
      "cell_type": "markdown",
      "metadata": {
        "id": "view-in-github",
        "colab_type": "text"
      },
      "source": [
        "<a href=\"https://colab.research.google.com/github/Livia711/livia/blob/main/Untitled16.ipynb\" target=\"_parent\"><img src=\"https://colab.research.google.com/assets/colab-badge.svg\" alt=\"Open In Colab\"/></a>"
      ]
    },
    {
      "cell_type": "code",
      "execution_count": 8,
      "metadata": {
        "id": "AQSXF1FfCH3O"
      },
      "outputs": [],
      "source": [
        "import sqlite3\n",
        "\n",
        "# 1. Conectar ao banco de dados ( ou criar um novo)\n",
        "# usando a função connect do módulo squlite3 para se conectar a um banco de dados SQLite\n",
        "# chamado ' exemplo.db'. Se o banco de dados não existir, ele será criado automaticamento.\n",
        "conn = sqlite3.connect('exemplo.db')\n",
        "\n",
        "# 2. Criar um objeto cursor\n",
        "# O cursos é usado para executar comando SQL no banco de dados.\n",
        "# Ele atua como uma especie de ponteiro que percorre os resultados da consultas.\n",
        "cursor = conn.cursor()\n",
        "# 3. Definir o comando SQL para ciar a tabela.\n",
        "# define uma String create_table que contém um comando SQL para criar uma tabela chama \"Produtos\"\n",
        "# Esta tabela terá quatro colunas: id (chave primaria), nome (texto), preco (numero real) e estoque (numero inteiro).\n",
        "# O IF NO EXISTS garante que a tabela só será criada se ainda não existir\n",
        "create_table = \"\"\"\n",
        "    CREATE TABLE IF NOT EXISTS Produtos (\n",
        "        id INTEGER PRIMARY KEY,\n",
        "        nome TEXT,\n",
        "        preco REAL,\n",
        "        estoque INTEGER\n",
        ");\n",
        "\"\"\"\n",
        "\n",
        "# Usa o mótodo execute do objeto cursor para executar o comando SQL definido anteriormente e criar a tabela no banco de dados.\n",
        "# 4. Executar o comando SQL para criar a tabela\n",
        "cursor.execute(create_table)\n",
        "\n",
        "# 5. Confirmar as alterações (commit)\n",
        "# Após a execução bem sucedida do comando SQL, usa o método commit no objeto de conexão (conn) para confirmar as alterações no banco de dados.\n",
        "# Isso garante que as alterações sejam efetivamente aplicadas.\n",
        "conn.commit()\n",
        "\n",
        "# 6. Fechar a conexão com banco de dados\n",
        "# Finalmente, você usa o metodo close no objeto de conexão para encerrar a conexão com o banco de dados.\n",
        "# É uma pratica recomendada fechar a conexão após a conclusão das operações, para liberar  recursos e eveitar possíveis problemas de concorrência.\n",
        "conn.close()"
      ]
    },
    {
      "cell_type": "code",
      "source": [
        "# Adicionar produto\n",
        "import sqlite3\n",
        "# Conectando ao banco de dados\n",
        "conn = sqlite3.connect('exemplo.db')\n",
        "cursor = conn.cursor()\n",
        "# Dados do novo produto\n",
        "novo_produto = ('Camiseta', 29.99, 50)\n",
        "# Comando SQL para inserir um novo produto na tabela\n",
        "inserir_produto = \"INSERT INTO Produtos (nome, preco, estoque) VALUES (?, ?, ?)\"\n",
        "# Executando o comando SQL para inserir o novo produto\n",
        "cursor.execute(inserir_produto, novo_produto)\n",
        "# Confirmando as alterações\n",
        "conn.commit()\n",
        "# Fechando a conexão\n",
        "conn.close()\n"
      ],
      "metadata": {
        "id": "RYOkkrOKGW6Z"
      },
      "execution_count": 17,
      "outputs": []
    },
    {
      "cell_type": "code",
      "source": [
        "# Visualizar produto\n",
        "# Conectando ao banco de dados\n",
        "conn = sqlite3.connect('exemplo.db')\n",
        "cursor = conn.cursor()\n",
        "# Comando SQL para selecionar todos os produtos\n",
        "selecionar_produtos = \"SELECT * FROM Produtos\"\n",
        "# Executando o comando SQL para selecionar os produtos\n",
        "cursor.execute(selecionar_produtos)\n",
        "# Obtendo todos os registros e exibindo-os\n",
        "produtos = cursor.fetchall()\n",
        "for produto in produtos:\n",
        "    print(produto)\n",
        "\n",
        "# Fechando a conexão\n",
        "conn.close()"
      ],
      "metadata": {
        "colab": {
          "base_uri": "https://localhost:8080/"
        },
        "id": "nff0DewrHURp",
        "outputId": "6d943489-a086-4c1c-e2ac-f0b02935e1b7"
      },
      "execution_count": 25,
      "outputs": [
        {
          "output_type": "stream",
          "name": "stdout",
          "text": [
            "(2, 'Camiseta', 19.99, 50)\n",
            "(4, 'Camiseta', 29.99, 50)\n",
            "(5, 'Camiseta', 29.99, 50)\n"
          ]
        }
      ]
    },
    {
      "cell_type": "code",
      "source": [
        "# Atualizar produto\n",
        "import sqlite3\n",
        "# Conectando ao banco de dados\n",
        "conn = sqlite3.connect('exemplo.db')\n",
        "cursor = conn.cursor()\n",
        "# Novo preço e do produto a ser atualizado\n",
        "novo_preco = 24.99\n",
        "produto_id = 1  # Suponhamos que queremos atualizar o produto com ID 1\n",
        "# Comando SQL para atualizar o preço de um produto\n",
        "atualizar_preco = \"UPDATE Produtos SET preco = ? WHERE id = ?\"\n",
        "# Executando o comando SQL para atualizar o preço do produto\n",
        "cursor.execute(atualizar_preco, (novo_preco, produto_id))\n",
        "# Confirmando as alterações\n",
        "conn.commit()\n",
        "# Fechando a cnexão\n",
        "conn.close()"
      ],
      "metadata": {
        "id": "7ffaGBWbID42"
      },
      "execution_count": 21,
      "outputs": []
    },
    {
      "cell_type": "code",
      "source": [
        "# Excluir produto\n",
        "import sqlite3\n",
        "# conectando ao banco de dados\n",
        "conn = sqlite3.connect('exemplo.db')\n",
        "cursor = conn.cursor()\n",
        "# ID do produto a ser excluido\n",
        "produto_id = 3  # Suponhamos que queremos excluir o produto com ID 1\n",
        "# Comando SQL para excluir um produto\n",
        "excluir_produto = \"DELETE FROM Produtos WHERE id = ?\"\n",
        "# Executando o comando SQL para excluir o produto\n",
        "cursor.execute(excluir_produto, (produto_id,))\n",
        "# Confirmando as alterações\n",
        "conn.commit()\n",
        "# Fechando a conexão\n",
        "conn.close()"
      ],
      "metadata": {
        "id": "7Hl9D3eFJysP"
      },
      "execution_count": 24,
      "outputs": []
    }
  ]
}