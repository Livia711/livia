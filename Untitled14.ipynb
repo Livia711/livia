{
  "nbformat": 4,
  "nbformat_minor": 0,
  "metadata": {
    "colab": {
      "provenance": [],
      "authorship_tag": "ABX9TyNry9EWRtEjvWPEzgt92E7q",
      "include_colab_link": true
    },
    "kernelspec": {
      "name": "python3",
      "display_name": "Python 3"
    },
    "language_info": {
      "name": "python"
    }
  },
  "cells": [
    {
      "cell_type": "markdown",
      "metadata": {
        "id": "view-in-github",
        "colab_type": "text"
      },
      "source": [
        "<a href=\"https://colab.research.google.com/github/Livia711/livia/blob/main/Untitled14.ipynb\" target=\"_parent\"><img src=\"https://colab.research.google.com/assets/colab-badge.svg\" alt=\"Open In Colab\"/></a>"
      ]
    },
    {
      "cell_type": "code",
      "source": [
        "import sqlite3\n",
        "# CREATE (Criação da tabela e incrição de dados de exemplo)\n",
        "conn = sqlite3.connect('mydatabase.db')\n",
        "cursor = conn.cursor()\n",
        "cursor.execute('''\n",
        "    CREATE TABLE IF NOT EXISTS Contatos (\n",
        "        id INTEGER PRIMARY KEY AUTOINCREMENT,\n",
        "        nome TEXT,\n",
        "        email TEXT,\n",
        "        telefone TEXT\n",
        "    )\n",
        "''')\n",
        "dados_exemplo = [\n",
        "    ( 'João', 'joao@gmail.com',  '123-456-789' ),\n",
        "    ( 'Maria', 'maria@gmail.com', '987-654-3210' ),\n",
        "    ( 'Pedro', 'pedro@gmail.com', '555-555-5555' ),\n",
        "]\n",
        "cursor.executemany('INSERT INTO Contatos (nome, email, telefone) VALUES (?, ?, ?)', dados_exemplo)\n",
        "conn.commit()\n",
        "\n",
        "# READ (Leitura e exibição de contatos)\n",
        "cursor.execute('SELECT * FROM Contatos')\n",
        "contatos = cursor.fetchall()\n",
        "print(\"Contatos:\")\n",
        "for contato in contatos:\n",
        "    print ( contato)\n",
        "\n",
        "    # UPDATE ( Atualização do número de telefone com o ID 2 )\n",
        "    novo_telefone = '999-999-999'\n",
        "    contato_id = 2\n",
        "cursor.executemany('INSERT INTO Contatos(nome, email, telefone) VALUES (?, ?, ?)', dados_exemplo)\n",
        "conn.commit()\n",
        "\n",
        "    # DELETE ( Exclusão do contato com ID 1)\n",
        "contato_id_excluir = 1\n",
        "\n",
        "cursor.execute('DELETE FROM Contatos WHERE id = ?', (contato_id_excluir,))\n",
        "conn.commit()\n",
        "\n",
        "    # Fechar a conexão com o banco de dados\n",
        "conn.close()"
      ],
      "metadata": {
        "id": "effzjb4DQYnq"
      },
      "execution_count": null,
      "outputs": []
    }
  ]
}