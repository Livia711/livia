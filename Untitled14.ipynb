{
  "nbformat": 4,
  "nbformat_minor": 0,
  "metadata": {
    "colab": {
      "provenance": [],
      "authorship_tag": "ABX9TyN3/ALyUZguSiLEq9v0MCAM",
      "include_colab_link": true
    },
    "kernelspec": {
      "name": "python3",
      "display_name": "Python 3"
    },
    "language_info": {
      "name": "python"
    }
  },
  "cells": [
    {
      "cell_type": "markdown",
      "metadata": {
        "id": "view-in-github",
        "colab_type": "text"
      },
      "source": [
        "<a href=\"https://colab.research.google.com/github/Livia711/livia/blob/main/Untitled14.ipynb\" target=\"_parent\"><img src=\"https://colab.research.google.com/assets/colab-badge.svg\" alt=\"Open In Colab\"/></a>"
      ]
    },
    {
      "cell_type": "code",
      "source": [
        "import matplotlib.pyplot as plt\n",
        "\n",
        "# Classe para representar um livro\n",
        "class Livro:\n",
        "    def __init__(self, titulo, autor, gênero, quantidade):\n",
        "        self.titulo = titulo\n",
        "        self.autor = autor\n",
        "        self.gênero = gênero\n",
        "        self.quantidade = quantidade\n",
        "    def __str__(self):\n",
        "        return f\"{self.titulo} de {self.autor}, {self.gênero} ({self.quantidade})\"\n",
        "\n",
        "\n",
        "# Criar uma lista de livros\n",
        "livros = []\n",
        "gênero = ['Aventura', 'Drama','Fantasia', 'Guerra', 'Horror', 'Romance']\n",
        "\n",
        "# Lista para armazenar quantidade disponivel\n",
        "quantidades= []\n",
        "\n",
        "# Criar uma lista vazia chamada 'biblioteca'\n",
        "biblioteca = []\n",
        "\n",
        "# Função para adicionar um livro à biblioteca\n",
        "def adicionar_livro(titulo, autor, gênero, quantidade):\n",
        "\n",
        "    novo_livro = Livro(titulo, autor, gênero, quantidade)\n",
        "    biblioteca.append(novo_livro)\n",
        "    quantidades.append(quantidade)\n",
        "    print(f\"Livro '{titulo}' adicionado à biblioteca!\")\n",
        "\n",
        "# Função para listar todos os livros na biblioteca\n",
        "def listar_livros():\n",
        "        print(\"Livros na biblioteca:\")\n",
        "        for livro in biblioteca:\n",
        "            print(livro)\n",
        "\n",
        "# Adicionar alguns livros à biblioteca\n",
        "adicionar_livro(\"É assim que acaba\", \" Colleen Hoover\", \"Romance\", 10)\n",
        "adicionar_livro(\"A rainha vermelha\", \"Victoria Aveyard\", \"Fantasia\", 20)\n",
        "adicionar_livro(\"Alice no país das Maravilhas\", \"Charles Lutwidge\",\" Aventura\",8)\n",
        "adicionar_livro(\"O rei da Terra do Nunca\", \"Nikki Crowe\", \"Horror\", 7)\n",
        "adicionar_livro(\"O Senhor dos Anéis\", \"J.R.R. Tolkien\", \"Fantasia\",11)\n",
        "adicionar_livro(\"Olhos Vazios\", \"Charlie Donlea\", \"Drama\",15)\n",
        "adicionar_livro(\"O Menino do pijama Listrado\", \"John Boyne\", \"Guerra\",10)\n",
        "\n",
        "# Listar todos os livros na biblioteca\n",
        "listar_livros()\n",
        "\n",
        "# Criar um gráfico de livros por quantidade disponivel\n",
        "contagem = [quantidades.count(a) for a in quantidades]\n",
        "\n",
        "\n",
        "# Criar um gráfico de Barras #Fixed: Changed from 'Criar um gráfico de linha'\n",
        "plt.bar(quantidades, contagem)\n",
        "plt.xlabel('Quantidade')\n",
        "plt.ylabel('Gênero')\n",
        "plt.title('Quantidade de Livros por Gênero')\n",
        "\n",
        "\n",
        "plt.show()\n",
        "\n",
        "def main():\n",
        "    while True:\n",
        "\n",
        "        print(\"\\n1. Cadastrar Livro\")\n",
        "\n",
        "        print(\"2. Listar Livros\")\n",
        "\n",
        "        print(\"3. Buscar Livro\")\n",
        "\n",
        "        print(\"4. Gerar Gráfico de Gêneros\")\n",
        "\n",
        "        print(\"5. Sair\")\n",
        "\n",
        "        opcao = input(\"Escolha uma opção: \")\n",
        "\n",
        "        if opcao == '1':\n",
        "\n",
        "            titulo = input(\"Título: \")\n",
        "\n",
        "            autor = input(\"Autor: \")\n",
        "\n",
        "            genero = input(\"Gênero: \")\n",
        "\n",
        "            quantidade = int(input(\"Quantidade Disponível: \"))\n",
        "\n",
        "            cadastrar_livro(titulo, autor, genero, quantidade)\n",
        "\n",
        "        elif opcao == '2':\n",
        "\n",
        "            listar_livros()\n",
        "\n",
        "        elif opcao == '3':\n",
        "\n",
        "            titulo = input(\"Digite o título do livro que deseja buscar: \")\n",
        "\n",
        "            buscar_livro(titulo)\n",
        "\n",
        "        elif opcao == '4':\n",
        "\n",
        "            gerar_grafico_genero()\n",
        "\n",
        "        elif opcao == '5':\n",
        "\n",
        "            print(\"Saindo do sistema...\")\n",
        "\n",
        "            break\n",
        "\n",
        "        else:\n",
        "\n",
        "            print(\"Opção inválida. Tente novamente.\")\n",
        "\n",
        "if __name__ == \"__main__\":\n",
        "\n",
        "   main()"
      ],
      "metadata": {
        "colab": {
          "base_uri": "https://localhost:8080/",
          "height": 875
        },
        "id": "iZuYtnfTDn4S",
        "outputId": "c0ec51b9-53f8-45d8-fd21-ab46715eeb02"
      },
      "execution_count": null,
      "outputs": [
        {
          "output_type": "stream",
          "name": "stdout",
          "text": [
            "Livro 'É assim que acaba' adicionado à biblioteca!\n",
            "Livro 'A rainha vermelha' adicionado à biblioteca!\n",
            "Livro 'Alice no país das Maravilhas' adicionado à biblioteca!\n",
            "Livro 'O rei da Terra do Nunca' adicionado à biblioteca!\n",
            "Livro 'O Senhor dos Anéis' adicionado à biblioteca!\n",
            "Livro 'Olhos Vazios' adicionado à biblioteca!\n",
            "Livro 'O Menino do pijama Listrado' adicionado à biblioteca!\n",
            "Livros na biblioteca:\n",
            "É assim que acaba de  Colleen Hoover, Romance (10)\n",
            "A rainha vermelha de Victoria Aveyard, Fantasia (20)\n",
            "Alice no país das Maravilhas de Charles Lutwidge,  Aventura (8)\n",
            "O rei da Terra do Nunca de Nikki Crowe, Horror (7)\n",
            "O Senhor dos Anéis de J.R.R. Tolkien, Fantasia (11)\n",
            "Olhos Vazios de Charlie Donlea, Drama (15)\n",
            "O Menino do pijama Listrado de John Boyne, Guerra (10)\n"
          ]
        },
        {
          "output_type": "display_data",
          "data": {
            "text/plain": [
              "<Figure size 640x480 with 1 Axes>"
            ],
            "image/png": "[encoded data removed]"
          },
          "metadata": {}
        },
        {
          "output_type": "stream",
          "name": "stdout",
          "text": [
            "\n",
            "1. Cadastrar Livro\n",
            "2. Listar Livros\n",
            "3. Buscar Livro\n",
            "4. Gerar Gráfico de Gêneros\n",
            "5. Sair\n"
          ]
        }
      ]
    }
  ]
}