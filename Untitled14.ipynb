{
  "nbformat": 4,
  "nbformat_minor": 0,
  "metadata": {
    "colab": {
      "provenance": [],
      "authorship_tag": "ABX9TyPcDc/VC4lRhlI+lsDwzkAy",
      "include_colab_link": true
    },
    "kernelspec": {
      "name": "python3",
      "display_name": "Python 3"
    },
    "language_info": {
      "name": "python"
    }
  },
  "cells": [
    {
      "cell_type": "markdown",
      "metadata": {
        "id": "view-in-github",
        "colab_type": "text"
      },
      "source": [
        "<a href=\"https://colab.research.google.com/github/Livia711/livia/blob/main/Untitled14.ipynb\" target=\"_parent\"><img src=\"https://colab.research.google.com/assets/colab-badge.svg\" alt=\"Open In Colab\"/></a>"
      ]
    },
    {
      "cell_type": "code",
      "source": [
        "import matplotlib.pyplot as plt\n",
        "\n",
        "# Classe para representar um livro\n",
        "class Livro:\n",
        "    def __init__(self, titulo, autor, gênero, quantidade):\n",
        "        self.titulo = titulo\n",
        "        self.autor = autor\n",
        "        self.gênero = gênero\n",
        "        self.quantidade = quantidade\n",
        "    def __str__(self):\n",
        "        return f\"{self.titulo} de {self.autor}, {self.gênero} ({self.quantidade})\"\n",
        "\n",
        "\n",
        "# Criar uma lista de livros\n",
        "livros = []\n",
        "gênero = ['Aventura', 'Drama','Fantasia', 'Guerra', 'Horror', 'Romance']\n",
        "\n",
        "# Lista para armazenar quantidade disponivel\n",
        "quantidades= []\n",
        "\n",
        "# Criar uma lista vazia chamada 'biblioteca'\n",
        "biblioteca = []\n",
        "\n",
        "# Função para adicionar um livro à biblioteca\n",
        "def adicionar_livro(titulo, autor, gênero, quantidade):\n",
        "\n",
        "    novo_livro = Livro(titulo, autor, gênero, quantidade)\n",
        "    biblioteca.append(novo_livro)\n",
        "    quantidades.append(quantidade)\n",
        "    print(f\"Livro '{titulo}' adicionado à biblioteca!\")\n",
        "\n",
        "# Função para listar todos os livros na biblioteca\n",
        "def listar_livros():\n",
        "        print(\"Livros na biblioteca:\")\n",
        "        for livro in biblioteca:\n",
        "            print(livro)\n",
        "\n",
        "# Adicionar alguns livros à biblioteca\n",
        "adicionar_livro(\"Alice no país das Maravilhas\", \"Charles Lutwidge\",\" Aventura\",8)\n",
        "adicionar_livro(\"Olhos Vazios\", \"Charlie Donlea\", \"Drama\",15)\n",
        "adicionar_livro(\"A rainha vermelha\", \"Victoria Aveyard\", \"Fantasia\", 20)\n",
        "adicionar_livro(\"O Senhor dos Anéis\", \"J.R.R. Tolkien\", \"Fantasia\",11)\n",
        "adicionar_livro(\"O Menino do pijama Listrado\", \"John Boyne\", \"Guerra\",10)\n",
        "adicionar_livro(\"O rei da Terra do Nunca\", \"Nikki Crowe\", \"Horror\", 7)\n",
        "adicionar_livro(\"P.S. Eu te amo\", \" Cecelia Ahern\", \"Romance\", 8)\n",
        "adicionar_livro(\"É assim que acaba\", \" Colleen Hoover\", \"Romance\", 10)\n",
        "\n",
        "# Listar todos os livros na biblioteca\n",
        "listar_livros()\n",
        "\n",
        "# Criar um gráfico de livros por quantidade disponivel\n",
        "from collections import Counter\n",
        "\n",
        "def gerar_grafico_genero():\n",
        "    # Use biblioteca instead of livros\n",
        "    generos = [livro.gênero for livro in biblioteca]\n",
        "\n",
        "    contagem = Counter(generos)\n",
        "\n",
        "    plt.bar(gênero, contagem.values())\n",
        "    plt.title('Quantidade de Livros por Gênero')\n",
        "    plt.xlabel('Gênero')\n",
        "    plt.ylabel('Quantidade')\n",
        "    plt.xticks(rotation=45)\n",
        "    plt.tight_layout()\n",
        "    plt.show()\n",
        "    # Call the function to generate the graph\n",
        "gerar_grafico_genero()\n",
        "\n",
        "\n",
        "def main():\n",
        "\n",
        "   while True:\n",
        "\n",
        "       print(\"\\n1. Cadastrar Livro\")\n",
        "\n",
        "       print(\"2. Listar Livros\")\n",
        "\n",
        "       print(\"3. Buscar Livro\")\n",
        "\n",
        "       print(\"4. Gerar Gráfico de Gêneros\")\n",
        "\n",
        "       print(\"5. Sair\")\n",
        "\n",
        "       opcao = input(\"Escolha uma opção: \")\n",
        "\n",
        "       if opcao == '1':\n",
        "\n",
        "           titulo = input(\"Título: \")\n",
        "\n",
        "           autor = input(\"Autor: \")\n",
        "\n",
        "           genero = input(\"Gênero: \")\n",
        "\n",
        "           quantidade = int(input(\"Quantidade Disponível: \"))\n",
        "\n",
        "           cadastrar_livro(titulo, autor, genero, quantidade)\n",
        "\n",
        "       elif opcao == '2':\n",
        "\n",
        "           listar_livros()\n",
        "\n",
        "       elif opcao == '3':\n",
        "\n",
        "           titulo = input(\"Digite o título do livro que deseja buscar: \")\n",
        "\n",
        "           buscar_livro(titulo)\n",
        "\n",
        "       elif opcao == '4':\n",
        "\n",
        "           gerar_grafico_genero()\n",
        "\n",
        "       elif opcao == '5':\n",
        "\n",
        "           print(\"Saindo do sistema...\")\n",
        "\n",
        "           break\n",
        "\n",
        "       else:\n",
        "\n",
        "           print(\"Opção inválida. Tente novamente.\")\n",
        "\n",
        "if __name__ == \"__main__\":\n",
        "\n",
        "   main()\n",
        "\n",
        "\n"
      ],
      "metadata": {
        "colab": {
          "base_uri": "https://localhost:8080/",
          "height": 925
        },
        "id": "HD-hQyp6RtaQ",
        "outputId": "d9ec2fdd-93ae-4e38-f192-61abba2f3ffe"
      },
      "execution_count": null,
      "outputs": [
        {
          "output_type": "stream",
          "name": "stdout",
          "text": [
            "Livro 'Alice no país das Maravilhas' adicionado à biblioteca!\n",
            "Livro 'Olhos Vazios' adicionado à biblioteca!\n",
            "Livro 'A rainha vermelha' adicionado à biblioteca!\n",
            "Livro 'O Senhor dos Anéis' adicionado à biblioteca!\n",
            "Livro 'O Menino do pijama Listrado' adicionado à biblioteca!\n",
            "Livro 'O rei da Terra do Nunca' adicionado à biblioteca!\n",
            "Livro 'P.S. Eu te amo' adicionado à biblioteca!\n",
            "Livro 'É assim que acaba' adicionado à biblioteca!\n",
            "Livros na biblioteca:\n",
            "Alice no país das Maravilhas de Charles Lutwidge,  Aventura (8)\n",
            "Olhos Vazios de Charlie Donlea, Drama (15)\n",
            "A rainha vermelha de Victoria Aveyard, Fantasia (20)\n",
            "O Senhor dos Anéis de J.R.R. Tolkien, Fantasia (11)\n",
            "O Menino do pijama Listrado de John Boyne, Guerra (10)\n",
            "O rei da Terra do Nunca de Nikki Crowe, Horror (7)\n",
            "P.S. Eu te amo de  Cecelia Ahern, Romance (8)\n",
            "É assim que acaba de  Colleen Hoover, Romance (10)\n"
          ]
        },
        {
          "output_type": "display_data",
          "data": {
            "text/plain": [
              "<Figure size 640x480 with 1 Axes>"
            ],
            "image/png": "[encoded data removed]"
          },
          "metadata": {}
        },
        {
          "output_type": "stream",
          "name": "stdout",
          "text": [
            "\n",
            "1. Cadastrar Livro\n",
            "2. Listar Livros\n",
            "3. Buscar Livro\n",
            "4. Gerar Gráfico de Gêneros\n",
            "5. Sair\n"
          ]
        }
      ]
    }
  ]
}