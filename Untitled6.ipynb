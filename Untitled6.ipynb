{
  "nbformat": 4,
  "nbformat_minor": 0,
  "metadata": {
    "colab": {
      "provenance": [],
      "authorship_tag": "ABX9TyN5l66HYAyOw3ywAAxXXPj6",
      "include_colab_link": true
    },
    "kernelspec": {
      "name": "python3",
      "display_name": "Python 3"
    },
    "language_info": {
      "name": "python"
    }
  },
  "cells": [
    {
      "cell_type": "markdown",
      "metadata": {
        "id": "view-in-github",
        "colab_type": "text"
      },
      "source": [
        "<a href=\"https://colab.research.google.com/github/Livia711/livia/blob/main/Untitled6.ipynb\" target=\"_parent\"><img src=\"https://colab.research.google.com/assets/colab-badge.svg\" alt=\"Open In Colab\"/></a>"
      ]
    },
    {
      "cell_type": "code",
      "source": [
        "# Define uma calsse chamada Pessoa\n",
        "class Pessoa:\n",
        "    # O método _init_ é um construtor, chamado quando um objeto da classe é criado.\n",
        "    # Ele inicializa os atributos da classe.\n",
        "    def __init__(self, nome, idade, profissão):\n",
        "      #self é uma convenção em Python que se refere à propia instância da classe.\n",
        "      # Os parãmetros nome, idade e genero são passados durante a criação do objeto.\n",
        "      # Eles são usados para inicializar os atributos da instâcia.\n",
        "        self.nome = nome\n",
        "        self.idade = idade\n",
        "        self.profissão = profissão\n",
        "\n",
        "    # O metodo cumprimentar retona uma saudação com o nome da pessoa.\n",
        "    def cumprimentar(self):\n",
        "        return f\"Olá, meu nome é {self.nome}.\"\n",
        "\n",
        "    # O metodo aniversario aumenta a idade da pessoa em 1.\n",
        "    def aniversario(self):\n",
        "        self.idade += 1\n",
        "\n",
        "# Criar uma instância d classe \"pessoa\" com os valores \"João\", 30 e \"Masculino\" para o nome, idade e genero , respectivamente.\n",
        "pessoa1 = Pessoa(\"João\", 30, \"Masculino\")\n",
        "\n",
        "# Chama o método \"cumprimentar\" na instância pessoa1 e imprime a saudação.\n",
        "print(pessoa1.cumprimentar()) # Saída: \" Olá, meu nome é João.\"\n",
        "\n",
        "# Acessa o atributo idade da instância pessoa1 e imprime sua idade.\n",
        "print(f\"Idade: {pessoa1.idade}.\") # Saída: \"Tenho 30 anos.\"\n",
        "\n",
        "# Chama o método \"aniversario\" na instância pessoa1 e imprime a nova idade.\n",
        "pessoa1.aniversario()\n",
        "\n",
        "# Acessa o atributo idade atualizado da instância pessoa1 e imprime a nova odade.\n",
        "print(f\"Nova idade: {pessoa1.idade}\") # Saida: \"Nova idade: 31\""
      ],
      "metadata": {
        "colab": {
          "base_uri": "https://localhost:8080/"
        },
        "id": "WlSDw9FRhSwX",
        "outputId": "257a5452-02c0-4fbd-f5af-ecdeac702149"
      },
      "execution_count": 29,
      "outputs": [
        {
          "output_type": "stream",
          "name": "stdout",
          "text": [
            "Olá, meu nome é João.\n",
            "Idade: 30.\n",
            "Nova idade: 31\n"
          ]
        }
      ]
    }
  ]
}