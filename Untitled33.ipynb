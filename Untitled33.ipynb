{
  "nbformat": 4,
  "nbformat_minor": 0,
  "metadata": {
    "colab": {
      "provenance": [],
      "authorship_tag": "ABX9TyPN4SXchsrJzQamraUJRE4O",
      "include_colab_link": true
    },
    "kernelspec": {
      "name": "python3",
      "display_name": "Python 3"
    },
    "language_info": {
      "name": "python"
    }
  },
  "cells": [
    {
      "cell_type": "markdown",
      "metadata": {
        "id": "view-in-github",
        "colab_type": "text"
      },
      "source": [
        "<a href=\"https://colab.research.google.com/github/Livia711/livia/blob/main/Untitled33.ipynb\" target=\"_parent\"><img src=\"https://colab.research.google.com/assets/colab-badge.svg\" alt=\"Open In Colab\"/></a>"
      ]
    },
    {
      "cell_type": "code",
      "source": [
        "#1)\n",
        "\n",
        "Indice = 13\n",
        "\n",
        "Soma = 0\n",
        "\n",
        "K = 0\n",
        "\n",
        "while K < Indice:\n",
        "\n",
        "   K = K + 1\n",
        "\n",
        "   Soma = Soma + K\n",
        "\n",
        "print (Soma)"
      ],
      "metadata": {
        "colab": {
          "base_uri": "https://localhost:8080/"
        },
        "id": "PWRgl_Qhu4O0",
        "outputId": "bef016d1-d15f-49a4-a853-2e8e23b94c2c"
      },
      "execution_count": 4,
      "outputs": [
        {
          "output_type": "stream",
          "name": "stdout",
          "text": [
            "91\n"
          ]
        }
      ]
    },
    {
      "cell_type": "code",
      "source": [
        "# 2)\n",
        "Termo1 = int(0)\n",
        "Termo2 = int(1)\n",
        "Termo3 = int(0)\n",
        "print ( 'Consulta da Sequência de Fibonacci')\n",
        "Valor = int(input('Digite um número: '))\n",
        "while Valor > Termo3:\n",
        "    Termo3 = Termo1 + Termo2\n",
        "    Termo1 = Termo2\n",
        "    Termo2 = Termo3\n",
        "if Valor == 0 or Valor == 1:\n",
        "    print ('O número faz parte da sequência de Fibonacci.')\n",
        "elif Valor == Termo3:\n",
        "    print ('O número faz parte da sequência de Fibonacci.')\n",
        "else:\n",
        "    print ('O número digitado não faz parte da sequência de Fibonacci.')"
      ],
      "metadata": {
        "colab": {
          "base_uri": "https://localhost:8080/"
        },
        "id": "AVGrcRuau6IV",
        "outputId": "f2bd42a1-4d22-45cc-efb5-1a0534cbf731"
      },
      "execution_count": 3,
      "outputs": [
        {
          "output_type": "stream",
          "name": "stdout",
          "text": [
            "Consulta da Sequência de Fibonacci\n",
            "Digite um número:     2\n",
            "O número faz parte da sequência de Fibonacci.\n"
          ]
        }
      ]
    },
    {
      "cell_type": "code",
      "source": [
        "# 3)\n",
        "\n",
        "faturamento = {\n",
        "\n",
        "   \"SP\": 67836.43,\n",
        "\n",
        "   \"RJ\": 36678.66,\n",
        "\n",
        "   \"MG\": 29229.88,\n",
        "\n",
        "   \"ES\": 27165.48,\n",
        "\n",
        "   \"Outros\": 19849.53}\n",
        "\n",
        "\n",
        "\n",
        "faturamento_total = sum(faturamento.values())\n",
        "\n",
        "\n",
        "\n",
        "for estado, valor in faturamento.items():\n",
        "\n",
        "   percentual = (valor / faturamento_total) * 100\n",
        "\n",
        "   print(f\"{estado}: {percentual:.2f}%\")\n",
        "\n"
      ],
      "metadata": {
        "colab": {
          "base_uri": "https://localhost:8080/"
        },
        "id": "O4QHZSuvv2Cl",
        "outputId": "914400da-3825-4b68-cdb4-c85340a490aa"
      },
      "execution_count": 7,
      "outputs": [
        {
          "output_type": "stream",
          "name": "stdout",
          "text": [
            "SP: 37.53%\n",
            "RJ: 20.29%\n",
            "MG: 16.17%\n",
            "ES: 15.03%\n",
            "Outros: 10.98%\n"
          ]
        }
      ]
    },
    {
      "cell_type": "code",
      "source": [
        "#4)\n",
        "nome = \"Lívia Eduarda\"\n",
        "nome_invertido = nome[::-1]\n",
        "print(nome_invertido)"
      ],
      "metadata": {
        "colab": {
          "base_uri": "https://localhost:8080/"
        },
        "id": "3vltHaefxidT",
        "outputId": "06910d12-640d-4caa-8f2f-9386fb9cf67e"
      },
      "execution_count": 18,
      "outputs": [
        {
          "output_type": "stream",
          "name": "stdout",
          "text": [
            "adraudE aivíL\n"
          ]
        }
      ]
    }
  ]
}