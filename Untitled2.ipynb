{
  "nbformat": 4,
  "nbformat_minor": 0,
  "metadata": {
    "colab": {
      "provenance": [],
      "authorship_tag": "ABX9TyPB4XqPU/uKGcQSwzzeJJp1",
      "include_colab_link": true
    },
    "kernelspec": {
      "name": "python3",
      "display_name": "Python 3"
    },
    "language_info": {
      "name": "python"
    }
  },
  "cells": [
    {
      "cell_type": "markdown",
      "metadata": {
        "id": "view-in-github",
        "colab_type": "text"
      },
      "source": [
        "<a href=\"https://colab.research.google.com/github/Livia711/livia/blob/main/Untitled2.ipynb\" target=\"_parent\"><img src=\"https://colab.research.google.com/assets/colab-badge.svg\" alt=\"Open In Colab\"/></a>"
      ]
    },
    {
      "cell_type": "code",
      "execution_count": null,
      "metadata": {
        "id": "4iqL7kOtTStP"
      },
      "outputs": [],
      "source": []
    },
    {
      "cell_type": "code",
      "source": [
        "# Criar uma lista de números\n",
        "numeros = [1, 2, 3, 4, 5, 6, 7, 8, 9, 10, 11, 11, 'a', True]\n",
        "\n",
        "#usar a função len () para calcular o comprimento da lista\n",
        "comprimento_da_lista = len(numeros)\n",
        "tamanho_da_lista = len(numeros)\n",
        "comprimento = len(numeros)\n",
        "\n",
        "#imprimir o comprimento da lista\n",
        "print(\"O comprimento da lista é:\", comprimento)\n"
      ],
      "metadata": {
        "id": "gxUCcahpT6iW",
        "colab": {
          "base_uri": "https://localhost:8080/"
        },
        "outputId": "df451b9c-016f-466c-b5d4-7356135d849d"
      },
      "execution_count": 5,
      "outputs": [
        {
          "output_type": "stream",
          "name": "stdout",
          "text": [
            "O comprimento da lista é: 14\n"
          ]
        }
      ]
    }
  ]
}