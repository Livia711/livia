{
  "nbformat": 4,
  "nbformat_minor": 0,
  "metadata": {
    "colab": {
      "provenance": [],
      "authorship_tag": "ABX9TyPkO21tffWwkigpqcd1Q7N0",
      "include_colab_link": true
    },
    "kernelspec": {
      "name": "python3",
      "display_name": "Python 3"
    },
    "language_info": {
      "name": "python"
    }
  },
  "cells": [
    {
      "cell_type": "markdown",
      "metadata": {
        "id": "view-in-github",
        "colab_type": "text"
      },
      "source": [
        "<a href=\"https://colab.research.google.com/github/Livia711/livia/blob/main/Untitled2.ipynb\" target=\"_parent\"><img src=\"https://colab.research.google.com/assets/colab-badge.svg\" alt=\"Open In Colab\"/></a>"
      ]
    },
    {
      "cell_type": "code",
      "execution_count": null,
      "metadata": {
        "id": "4iqL7kOtTStP"
      },
      "outputs": [],
      "source": []
    },
    {
      "cell_type": "code",
      "source": [
        "# Definir uma função chamada 'soma'\n",
        "def soma(a, b):\n",
        "  resultado = a + b\n",
        "  return resultado\n",
        "\n"
      ],
      "metadata": {
        "id": "gxUCcahpT6iW"
      },
      "execution_count": 6,
      "outputs": []
    },
    {
      "cell_type": "code",
      "source": [
        "resultado_soma = soma(5, 3)\n",
        "\n",
        "#imprimindo o resultado\n",
        "print(\"a soma de 5 e 3 é:\" , resultado_soma)\n"
      ],
      "metadata": {
        "colab": {
          "base_uri": "https://localhost:8080/"
        },
        "id": "Jc59a6vDXR05",
        "outputId": "5b8e95dc-ee6e-4a73-b797-95c37df83c2c"
      },
      "execution_count": 7,
      "outputs": [
        {
          "output_type": "stream",
          "name": "stdout",
          "text": [
            "a soma de 5 e 3 é: 8\n"
          ]
        }
      ]
    },
    {
      "cell_type": "code",
      "source": [
        "# definindo uma função chamada \"e_par\"\n",
        "def e_par(numero):\n",
        "  #operador módulo %\n",
        "  if numero % 2 == 0:\n",
        "    return True\n",
        "  else:\n",
        "    return False"
      ],
      "metadata": {
        "id": "UpQdTjENXm4J"
      },
      "execution_count": 8,
      "outputs": []
    },
    {
      "cell_type": "code",
      "source": [
        "numero = 338\n",
        "if e_par(numero):\n",
        "  print(f\"{numero} é par\")\n",
        "else:\n",
        "  print(f\"{numero} é impar\")"
      ],
      "metadata": {
        "colab": {
          "base_uri": "https://localhost:8080/"
        },
        "id": "m_u_dHd8YB5a",
        "outputId": "96b3919b-3b8f-4f57-9662-3fa9c0e5c947"
      },
      "execution_count": 9,
      "outputs": [
        {
          "output_type": "stream",
          "name": "stdout",
          "text": [
            "338 é par\n"
          ]
        }
      ]
    }
  ]
}